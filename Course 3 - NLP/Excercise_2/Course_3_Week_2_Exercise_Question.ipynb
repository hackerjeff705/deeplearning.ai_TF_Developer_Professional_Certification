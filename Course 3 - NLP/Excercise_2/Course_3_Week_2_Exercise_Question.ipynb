{
 "cells": [
  {
   "cell_type": "code",
   "execution_count": 1,
   "metadata": {
    "id": "zX4Kg8DUTKWO"
   },
   "outputs": [],
   "source": [
    "#@title Licensed under the Apache License, Version 2.0 (the \"License\");\n",
    "# you may not use this file except in compliance with the License.\n",
    "# You may obtain a copy of the License at\n",
    "#\n",
    "# https://www.apache.org/licenses/LICENSE-2.0\n",
    "#\n",
    "# Unless required by applicable law or agreed to in writing, software\n",
    "# distributed under the License is distributed on an \"AS IS\" BASIS,\n",
    "# WITHOUT WARRANTIES OR CONDITIONS OF ANY KIND, either express or implied.\n",
    "# See the License for the specific language governing permissions and\n",
    "# limitations under the License."
   ]
  },
  {
   "cell_type": "markdown",
   "metadata": {
    "id": "view-in-github"
   },
   "source": [
    "<a href=\"https://colab.research.google.com/github/lmoroney/dlaicourse/blob/master/TensorFlow%20In%20Practice/Course%203%20-%20NLP/Course%203%20-%20Week%202%20-%20Exercise%20-%20Question.ipynb\" target=\"_parent\"><img src=\"https://colab.research.google.com/assets/colab-badge.svg\" alt=\"Open In Colab\"/></a>"
   ]
  },
  {
   "cell_type": "code",
   "execution_count": 2,
   "metadata": {
    "colab": {
     "base_uri": "https://localhost:8080/"
    },
    "id": "gnwiOnGyW5JK",
    "outputId": "dc362f15-3eb8-40b3-8b88-269b5e1194fd"
   },
   "outputs": [
    {
     "name": "stdout",
     "output_type": "stream",
     "text": [
      "--2020-12-03 09:14:24--  https://storage.googleapis.com/laurencemoroney-blog.appspot.com/bbc-text.csv\n",
      "Resolving storage.googleapis.com (storage.googleapis.com)... 74.125.195.128, 142.250.107.128, 74.125.20.128, ...\n",
      "Connecting to storage.googleapis.com (storage.googleapis.com)|74.125.195.128|:443... connected.\n",
      "HTTP request sent, awaiting response... 200 OK\n",
      "Length: 5057493 (4.8M) [application/octet-stream]\n",
      "Saving to: ‘/tmp/bbc-text.csv’\n",
      "\n",
      "\r",
      "/tmp/bbc-text.csv     0%[                    ]       0  --.-KB/s               \r",
      "/tmp/bbc-text.csv   100%[===================>]   4.82M  --.-KB/s    in 0.02s   \n",
      "\n",
      "2020-12-03 09:14:25 (216 MB/s) - ‘/tmp/bbc-text.csv’ saved [5057493/5057493]\n",
      "\n"
     ]
    }
   ],
   "source": [
    "import csv\n",
    "import tensorflow as tf\n",
    "import numpy as np\n",
    "from tensorflow.keras.preprocessing.text import Tokenizer\n",
    "from tensorflow.keras.preprocessing.sequence import pad_sequences\n",
    "\n",
    "!wget --no-check-certificate \\\n",
    "    https://storage.googleapis.com/laurencemoroney-blog.appspot.com/bbc-text.csv \\\n",
    "    -O /tmp/bbc-text.csv"
   ]
  },
  {
   "cell_type": "code",
   "execution_count": 3,
   "metadata": {
    "id": "EYo6A4v5ZABQ"
   },
   "outputs": [],
   "source": [
    "vocab_size = 10000\n",
    "embedding_dim = 16\n",
    "max_length = 120\n",
    "trunc_type = 'post'\n",
    "padding_type = 'post'\n",
    "oov_tok = \"<OOV>\"\n",
    "training_portion = .8"
   ]
  },
  {
   "cell_type": "code",
   "execution_count": 4,
   "metadata": {
    "colab": {
     "base_uri": "https://localhost:8080/"
    },
    "id": "iU1qq3_SZBx_",
    "outputId": "47c97355-462b-4b7b-e825-b36ce812e0ee"
   },
   "outputs": [
    {
     "name": "stdout",
     "output_type": "stream",
     "text": [
      "153\n"
     ]
    }
   ],
   "source": [
    "sentences = []\n",
    "labels = []\n",
    "stopwords = [ \"a\", \"about\", \"above\", \"after\", \"again\", \"against\", \"all\", \"am\", \"an\", \"and\", \"any\", \"are\", \"as\", \"at\", \"be\", \"because\", \"been\", \"before\", \"being\", \"below\", \"between\", \"both\", \"but\", \"by\", \"could\", \"did\", \"do\", \"does\", \"doing\", \"down\", \"during\", \"each\", \"few\", \"for\", \"from\", \"further\", \"had\", \"has\", \"have\", \"having\", \"he\", \"he'd\", \"he'll\", \"he's\", \"her\", \"here\", \"here's\", \"hers\", \"herself\", \"him\", \"himself\", \"his\", \"how\", \"how's\", \"i\", \"i'd\", \"i'll\", \"i'm\", \"i've\", \"if\", \"in\", \"into\", \"is\", \"it\", \"it's\", \"its\", \"itself\", \"let's\", \"me\", \"more\", \"most\", \"my\", \"myself\", \"nor\", \"of\", \"on\", \"once\", \"only\", \"or\", \"other\", \"ought\", \"our\", \"ours\", \"ourselves\", \"out\", \"over\", \"own\", \"same\", \"she\", \"she'd\", \"she'll\", \"she's\", \"should\", \"so\", \"some\", \"such\", \"than\", \"that\", \"that's\", \"the\", \"their\", \"theirs\", \"them\", \"themselves\", \"then\", \"there\", \"there's\", \"these\", \"they\", \"they'd\", \"they'll\", \"they're\", \"they've\", \"this\", \"those\", \"through\", \"to\", \"too\", \"under\", \"until\", \"up\", \"very\", \"was\", \"we\", \"we'd\", \"we'll\", \"we're\", \"we've\", \"were\", \"what\", \"what's\", \"when\", \"when's\", \"where\", \"where's\", \"which\", \"while\", \"who\", \"who's\", \"whom\", \"why\", \"why's\", \"with\", \"would\", \"you\", \"you'd\", \"you'll\", \"you're\", \"you've\", \"your\", \"yours\", \"yourself\", \"yourselves\" ]\n",
    "print(len(stopwords))\n",
    "# Expected Output\n",
    "# 153"
   ]
  },
  {
   "cell_type": "code",
   "execution_count": 5,
   "metadata": {
    "colab": {
     "base_uri": "https://localhost:8080/"
    },
    "id": "eutB2xMiZD0e",
    "outputId": "dcffb0c5-7f71-45c8-fecd-f246589c9f13"
   },
   "outputs": [
    {
     "name": "stdout",
     "output_type": "stream",
     "text": [
      "['tech', 'business', 'sport', 'sport', 'entertainment', 'politics', 'politics', 'sport', 'sport', 'entertainment', 'entertainment', 'business', 'business', 'politics', 'sport', 'business', 'politics', 'sport', 'business', 'tech', 'tech', 'tech', 'sport', 'sport', 'tech', 'sport', 'entertainment', 'tech', 'politics', 'entertainment', 'politics', 'tech', 'entertainment', 'entertainment', 'business', 'politics', 'tech', 'entertainment', 'politics', 'business', 'politics', 'sport', 'business', 'sport', 'tech', 'entertainment', 'politics', 'politics', 'politics', 'business', 'sport', 'politics', 'business', 'business', 'sport', 'politics', 'business', 'sport', 'sport', 'business', 'business', 'sport', 'business', 'sport', 'business', 'tech', 'business', 'entertainment', 'tech', 'business', 'politics', 'business', 'politics', 'sport', 'business', 'tech', 'business', 'sport', 'sport', 'business', 'business', 'sport', 'politics', 'business', 'entertainment', 'politics', 'politics', 'business', 'entertainment', 'business', 'sport', 'sport', 'politics', 'sport', 'politics', 'sport', 'business', 'sport', 'business', 'entertainment', 'entertainment', 'sport', 'business', 'politics', 'politics', 'tech', 'sport', 'entertainment', 'sport', 'tech', 'business', 'entertainment', 'sport', 'entertainment', 'sport', 'entertainment', 'entertainment', 'politics', 'sport', 'sport', 'entertainment', 'politics', 'business', 'tech', 'business', 'business', 'tech', 'sport', 'politics', 'sport', 'tech', 'entertainment', 'sport', 'business', 'business', 'tech', 'entertainment', 'tech', 'sport', 'business', 'business', 'business', 'tech', 'sport', 'tech', 'business', 'sport', 'entertainment', 'sport', 'tech', 'sport', 'tech', 'politics', 'business', 'tech', 'entertainment', 'sport', 'business', 'politics', 'business', 'entertainment', 'politics', 'politics', 'entertainment', 'politics', 'business', 'entertainment', 'politics', 'politics', 'entertainment', 'politics', 'sport', 'business', 'politics', 'politics', 'business', 'entertainment', 'sport', 'business', 'business', 'sport', 'tech', 'sport', 'tech', 'tech', 'sport', 'business', 'sport', 'politics', 'entertainment', 'politics', 'business', 'politics', 'business', 'tech', 'politics', 'entertainment', 'politics', 'tech', 'business', 'sport', 'business', 'sport', 'tech', 'entertainment', 'business', 'politics', 'politics', 'entertainment', 'sport', 'entertainment', 'politics', 'sport', 'entertainment', 'sport', 'sport', 'entertainment', 'sport', 'politics', 'politics', 'entertainment', 'tech', 'sport', 'politics', 'business', 'entertainment', 'tech', 'sport', 'tech', 'sport', 'entertainment', 'politics', 'sport', 'entertainment', 'tech', 'business', 'tech', 'business', 'business', 'tech', 'business', 'sport', 'business', 'sport', 'business', 'sport', 'entertainment', 'business', 'business', 'entertainment', 'sport', 'sport', 'politics', 'tech', 'politics', 'politics', 'politics', 'tech', 'sport', 'tech', 'politics', 'business', 'tech', 'entertainment', 'tech', 'sport', 'sport', 'business', 'business', 'politics', 'business', 'tech', 'sport', 'entertainment', 'sport', 'politics', 'tech', 'entertainment', 'business', 'sport', 'entertainment', 'sport', 'tech', 'politics', 'tech', 'business', 'business', 'politics', 'politics', 'sport', 'business', 'tech', 'entertainment', 'politics', 'tech', 'business', 'entertainment', 'sport', 'entertainment', 'sport', 'entertainment', 'politics', 'business', 'sport', 'business', 'sport', 'sport', 'entertainment', 'sport', 'politics', 'politics', 'business', 'entertainment', 'tech', 'business', 'sport', 'business', 'entertainment', 'business', 'business', 'business', 'politics', 'business', 'politics', 'entertainment', 'entertainment', 'business', 'sport', 'business', 'politics', 'business', 'tech', 'entertainment', 'business', 'sport', 'sport', 'entertainment', 'business', 'business', 'politics', 'tech', 'entertainment', 'tech', 'politics', 'business', 'sport', 'politics', 'business', 'entertainment', 'tech', 'entertainment', 'tech', 'politics', 'sport', 'entertainment', 'business', 'politics', 'business', 'business', 'politics', 'sport', 'tech', 'business', 'business', 'entertainment', 'entertainment', 'tech', 'sport', 'business', 'entertainment', 'tech', 'tech', 'entertainment', 'entertainment', 'entertainment', 'politics', 'sport', 'politics', 'tech', 'business', 'entertainment', 'politics', 'business', 'entertainment', 'politics', 'politics', 'sport', 'sport', 'business', 'politics', 'entertainment', 'business', 'sport', 'business', 'business', 'sport', 'business', 'politics', 'politics', 'politics', 'sport', 'tech', 'tech', 'business', 'tech', 'sport', 'entertainment', 'business', 'politics', 'business', 'entertainment', 'business', 'politics', 'entertainment', 'politics', 'business', 'tech', 'business', 'sport', 'sport', 'business', 'sport', 'sport', 'entertainment', 'sport', 'sport', 'sport', 'tech', 'business', 'business', 'business', 'politics', 'sport', 'sport', 'business', 'tech', 'business', 'politics', 'sport', 'politics', 'tech', 'business', 'sport', 'entertainment', 'business', 'politics', 'tech', 'business', 'sport', 'business', 'politics', 'business', 'business', 'sport', 'entertainment', 'tech', 'politics', 'tech', 'business', 'sport', 'business', 'entertainment', 'tech', 'tech', 'business', 'sport', 'sport', 'entertainment', 'politics', 'politics', 'politics', 'sport', 'politics', 'tech', 'tech', 'entertainment', 'politics', 'tech', 'entertainment', 'business', 'sport', 'sport', 'tech', 'business', 'sport', 'sport', 'politics', 'sport', 'sport', 'business', 'sport', 'entertainment', 'tech', 'politics', 'sport', 'politics', 'tech', 'business', 'business', 'business', 'tech', 'business', 'business', 'sport', 'sport', 'sport', 'sport', 'business', 'tech', 'entertainment', 'sport', 'sport', 'tech', 'business', 'tech', 'entertainment', 'politics', 'sport', 'business', 'politics', 'business', 'tech', 'tech', 'politics', 'tech', 'business', 'sport', 'business', 'entertainment', 'sport', 'politics', 'entertainment', 'sport', 'sport', 'politics', 'tech', 'entertainment', 'tech', 'sport', 'politics', 'business', 'entertainment', 'politics', 'business', 'entertainment', 'sport', 'sport', 'tech', 'politics', 'entertainment', 'politics', 'entertainment', 'politics', 'tech', 'politics', 'entertainment', 'sport', 'business', 'sport', 'entertainment', 'sport', 'entertainment', 'tech', 'business', 'sport', 'politics', 'entertainment', 'politics', 'entertainment', 'entertainment', 'entertainment', 'politics', 'entertainment', 'tech', 'politics', 'tech', 'tech', 'sport', 'sport', 'tech', 'tech', 'sport', 'entertainment', 'entertainment', 'sport', 'tech', 'entertainment', 'sport', 'sport', 'tech', 'business', 'politics', 'tech', 'business', 'sport', 'entertainment', 'sport', 'entertainment', 'politics', 'tech', 'entertainment', 'entertainment', 'business', 'entertainment', 'entertainment', 'sport', 'tech', 'tech', 'politics', 'sport', 'tech', 'sport', 'politics', 'politics', 'entertainment', 'tech', 'business', 'tech', 'tech', 'tech', 'business', 'politics', 'politics', 'sport', 'tech', 'business', 'business', 'entertainment', 'entertainment', 'sport', 'tech', 'business', 'tech', 'entertainment', 'sport', 'tech', 'politics', 'tech', 'politics', 'business', 'politics', 'politics', 'business', 'sport', 'tech', 'sport', 'tech', 'politics', 'entertainment', 'tech', 'sport', 'entertainment', 'tech', 'sport', 'politics', 'entertainment', 'sport', 'tech', 'sport', 'sport', 'politics', 'entertainment', 'business', 'politics', 'entertainment', 'business', 'business', 'tech', 'business', 'entertainment', 'tech', 'sport', 'tech', 'politics', 'tech', 'politics', 'business', 'politics', 'entertainment', 'sport', 'business', 'business', 'business', 'entertainment', 'sport', 'business', 'entertainment', 'entertainment', 'sport', 'entertainment', 'politics', 'politics', 'politics', 'sport', 'sport', 'sport', 'tech', 'politics', 'sport', 'politics', 'politics', 'tech', 'politics', 'sport', 'business', 'entertainment', 'sport', 'business', 'business', 'tech', 'business', 'entertainment', 'entertainment', 'entertainment', 'business', 'entertainment', 'entertainment', 'politics', 'tech', 'business', 'sport', 'tech', 'sport', 'sport', 'politics', 'business', 'sport', 'tech', 'business', 'sport', 'tech', 'sport', 'sport', 'entertainment', 'sport', 'business', 'sport', 'business', 'tech', 'politics', 'tech', 'business', 'sport', 'sport', 'business', 'business', 'business', 'business', 'politics', 'sport', 'business', 'tech', 'business', 'sport', 'politics', 'business', 'tech', 'business', 'sport', 'business', 'politics', 'entertainment', 'sport', 'business', 'politics', 'business', 'entertainment', 'business', 'business', 'business', 'sport', 'politics', 'entertainment', 'sport', 'politics', 'sport', 'politics', 'politics', 'business', 'business', 'sport', 'tech', 'entertainment', 'sport', 'entertainment', 'business', 'business', 'business', 'tech', 'sport', 'tech', 'politics', 'tech', 'tech', 'tech', 'sport', 'tech', 'tech', 'entertainment', 'entertainment', 'tech', 'sport', 'entertainment', 'tech', 'sport', 'sport', 'business', 'entertainment', 'tech', 'business', 'sport', 'business', 'politics', 'business', 'entertainment', 'tech', 'business', 'politics', 'business', 'tech', 'sport', 'business', 'entertainment', 'business', 'politics', 'sport', 'entertainment', 'politics', 'sport', 'business', 'sport', 'politics', 'politics', 'sport', 'entertainment', 'entertainment', 'business', 'business', 'sport', 'tech', 'tech', 'sport', 'entertainment', 'tech', 'tech', 'business', 'sport', 'entertainment', 'tech', 'sport', 'sport', 'business', 'entertainment', 'business', 'business', 'business', 'entertainment', 'sport', 'entertainment', 'tech', 'tech', 'tech', 'politics', 'tech', 'tech', 'entertainment', 'entertainment', 'sport', 'sport', 'politics', 'business', 'entertainment', 'sport', 'politics', 'entertainment', 'tech', 'politics', 'tech', 'tech', 'business', 'entertainment', 'politics', 'tech', 'politics', 'politics', 'sport', 'politics', 'politics', 'entertainment', 'tech', 'sport', 'politics', 'sport', 'entertainment', 'politics', 'business', 'business', 'politics', 'sport', 'sport', 'sport', 'entertainment', 'tech', 'tech', 'business', 'entertainment', 'sport', 'politics', 'tech', 'politics', 'entertainment', 'tech', 'tech', 'business', 'business', 'sport', 'business', 'business', 'tech', 'politics', 'entertainment', 'business', 'business', 'business', 'business', 'business', 'tech', 'sport', 'politics', 'tech', 'tech', 'business', 'business', 'entertainment', 'politics', 'entertainment', 'sport', 'tech', 'sport', 'entertainment', 'sport', 'tech', 'sport', 'business', 'sport', 'politics', 'politics', 'entertainment', 'business', 'sport', 'politics', 'politics', 'sport', 'entertainment', 'politics', 'business', 'tech', 'sport', 'business', 'business', 'business', 'entertainment', 'entertainment', 'tech', 'tech', 'business', 'business', 'entertainment', 'sport', 'business', 'entertainment', 'tech', 'tech', 'business', 'business', 'sport', 'sport', 'sport', 'politics', 'politics', 'sport', 'politics', 'sport', 'business', 'entertainment', 'sport', 'tech', 'entertainment', 'sport', 'sport', 'business', 'business', 'tech', 'tech', 'sport', 'entertainment', 'sport', 'entertainment', 'sport', 'entertainment', 'politics', 'entertainment', 'entertainment', 'tech', 'entertainment', 'business', 'business', 'politics', 'sport', 'politics', 'tech', 'business', 'politics', 'sport', 'politics', 'sport', 'entertainment', 'sport', 'politics', 'sport', 'sport', 'tech', 'entertainment', 'sport', 'politics', 'sport', 'sport', 'business', 'tech', 'entertainment', 'politics', 'tech', 'entertainment', 'politics', 'entertainment', 'politics', 'entertainment', 'entertainment', 'tech', 'entertainment', 'politics', 'entertainment', 'entertainment', 'tech', 'tech', 'sport', 'sport', 'entertainment', 'entertainment', 'tech', 'entertainment', 'politics', 'tech', 'entertainment', 'business', 'tech', 'sport', 'business', 'entertainment', 'entertainment', 'tech', 'entertainment', 'tech', 'business', 'entertainment', 'sport', 'entertainment', 'business', 'sport', 'business', 'sport', 'politics', 'tech', 'entertainment', 'politics', 'business', 'entertainment', 'entertainment', 'politics', 'business', 'entertainment', 'sport', 'politics', 'sport', 'business', 'business', 'business', 'business', 'business', 'entertainment', 'tech', 'sport', 'entertainment', 'entertainment', 'business', 'sport', 'tech', 'tech', 'entertainment', 'sport', 'business', 'politics', 'business', 'politics', 'business', 'business', 'entertainment', 'politics', 'business', 'business', 'tech', 'politics', 'sport', 'tech', 'entertainment', 'politics', 'business', 'business', 'sport', 'entertainment', 'politics', 'tech', 'business', 'business', 'politics', 'business', 'sport', 'entertainment', 'sport', 'entertainment', 'tech', 'politics', 'business', 'business', 'tech', 'business', 'business', 'sport', 'business', 'tech', 'entertainment', 'politics', 'business', 'politics', 'business', 'sport', 'tech', 'business', 'politics', 'entertainment', 'tech', 'business', 'entertainment', 'sport', 'politics', 'politics', 'sport', 'politics', 'business', 'tech', 'entertainment', 'sport', 'sport', 'tech', 'business', 'sport', 'entertainment', 'tech', 'sport', 'politics', 'sport', 'business', 'business', 'business', 'politics', 'entertainment', 'sport', 'politics', 'tech', 'business', 'business', 'tech', 'entertainment', 'entertainment', 'tech', 'tech', 'sport', 'sport', 'entertainment', 'tech', 'entertainment', 'sport', 'politics', 'tech', 'business', 'sport', 'entertainment', 'business', 'business', 'entertainment', 'sport', 'business', 'sport', 'tech', 'politics', 'politics', 'tech', 'entertainment', 'politics', 'entertainment', 'business', 'business', 'politics', 'sport', 'tech', 'sport', 'sport', 'sport', 'politics', 'business', 'sport', 'business', 'tech', 'sport', 'business', 'business', 'sport', 'politics', 'tech', 'sport', 'business', 'tech', 'sport', 'sport', 'business', 'business', 'business', 'business', 'politics', 'entertainment', 'tech', 'business', 'business', 'sport', 'business', 'entertainment', 'business', 'entertainment', 'sport', 'politics', 'business', 'business', 'tech', 'entertainment', 'business', 'business', 'business', 'politics', 'business', 'politics', 'tech', 'entertainment', 'politics', 'entertainment', 'sport', 'tech', 'politics', 'business', 'tech', 'sport', 'business', 'business', 'entertainment', 'tech', 'business', 'business', 'sport', 'sport', 'entertainment', 'sport', 'politics', 'sport', 'business', 'sport', 'business', 'politics', 'politics', 'business', 'politics', 'tech', 'entertainment', 'sport', 'business', 'entertainment', 'sport', 'politics', 'politics', 'tech', 'entertainment', 'business', 'politics', 'politics', 'sport', 'tech', 'business', 'sport', 'entertainment', 'sport', 'entertainment', 'sport', 'business', 'sport', 'politics', 'entertainment', 'tech', 'business', 'sport', 'politics', 'tech', 'sport', 'entertainment', 'business', 'sport', 'entertainment', 'sport', 'tech', 'sport', 'tech', 'politics', 'sport', 'business', 'entertainment', 'tech', 'tech', 'politics', 'tech', 'entertainment', 'tech', 'sport', 'business', 'tech', 'business', 'entertainment', 'sport', 'tech', 'politics', 'politics', 'politics', 'politics', 'entertainment', 'entertainment', 'entertainment', 'business', 'politics', 'politics', 'sport', 'sport', 'tech', 'sport', 'politics', 'business', 'business', 'tech', 'sport', 'tech', 'business', 'tech', 'politics', 'politics', 'sport', 'business', 'politics', 'sport', 'business', 'tech', 'business', 'business', 'entertainment', 'entertainment', 'sport', 'business', 'tech', 'tech', 'politics', 'business', 'politics', 'sport', 'entertainment', 'entertainment', 'politics', 'politics', 'business', 'business', 'tech', 'tech', 'sport', 'sport', 'politics', 'tech', 'sport', 'tech', 'business', 'sport', 'business', 'politics', 'sport', 'entertainment', 'business', 'tech', 'politics', 'entertainment', 'tech', 'business', 'sport', 'entertainment', 'tech', 'tech', 'entertainment', 'politics', 'tech', 'entertainment', 'sport', 'entertainment', 'sport', 'sport', 'sport', 'politics', 'tech', 'sport', 'business', 'sport', 'sport', 'business', 'tech', 'sport', 'business', 'entertainment', 'politics', 'tech', 'sport', 'politics', 'tech', 'entertainment', 'politics', 'sport', 'politics', 'tech', 'business', 'entertainment', 'sport', 'politics', 'business', 'tech', 'tech', 'tech', 'politics', 'business', 'sport', 'politics', 'entertainment', 'tech', 'entertainment', 'sport', 'tech', 'business', 'politics', 'entertainment', 'tech', 'politics', 'sport', 'sport', 'business', 'entertainment', 'business', 'business', 'politics', 'business', 'business', 'politics', 'tech', 'entertainment', 'politics', 'entertainment', 'entertainment', 'business', 'politics', 'sport', 'politics', 'entertainment', 'sport', 'entertainment', 'politics', 'entertainment', 'entertainment', 'entertainment', 'business', 'sport', 'politics', 'sport', 'entertainment', 'tech', 'tech', 'business', 'politics', 'entertainment', 'business', 'sport', 'business', 'politics', 'politics', 'business', 'sport', 'tech', 'tech', 'tech', 'business', 'politics', 'politics', 'business', 'sport', 'sport', 'entertainment', 'business', 'sport', 'sport', 'politics', 'politics', 'politics', 'entertainment', 'politics', 'business', 'tech', 'business', 'politics', 'entertainment', 'entertainment', 'business', 'sport', 'politics', 'entertainment', 'sport', 'entertainment', 'politics', 'politics', 'business', 'politics', 'sport', 'entertainment', 'entertainment', 'tech', 'tech', 'tech', 'tech', 'politics', 'tech', 'business', 'tech', 'sport', 'sport', 'entertainment', 'business', 'tech', 'entertainment', 'business', 'tech', 'sport', 'tech', 'entertainment', 'entertainment', 'politics', 'politics', 'sport', 'business', 'business', 'tech', 'entertainment', 'sport', 'politics', 'business', 'tech', 'entertainment', 'politics', 'sport', 'entertainment', 'politics', 'politics', 'tech', 'sport', 'politics', 'business', 'politics', 'entertainment', 'tech', 'sport', 'politics', 'entertainment', 'entertainment', 'business', 'sport', 'tech', 'tech', 'sport', 'entertainment', 'tech', 'politics', 'tech', 'sport', 'politics', 'politics', 'sport', 'entertainment', 'sport', 'politics', 'sport', 'tech', 'entertainment', 'sport', 'entertainment', 'business', 'business', 'entertainment', 'entertainment', 'entertainment', 'tech', 'sport', 'business', 'business', 'politics', 'politics', 'business', 'politics', 'entertainment', 'sport', 'sport', 'tech', 'politics', 'sport', 'business', 'sport', 'business', 'tech', 'sport', 'sport', 'business', 'entertainment', 'sport', 'sport', 'tech', 'sport', 'business', 'politics', 'business', 'entertainment', 'tech', 'entertainment', 'politics', 'business', 'entertainment', 'politics', 'entertainment', 'politics', 'politics', 'business', 'sport', 'sport', 'sport', 'tech', 'tech', 'sport', 'politics', 'entertainment', 'tech', 'sport', 'entertainment', 'business', 'entertainment', 'politics', 'business', 'sport', 'tech', 'business', 'sport', 'politics', 'business', 'entertainment', 'entertainment', 'entertainment', 'politics', 'entertainment', 'politics', 'entertainment', 'sport', 'entertainment', 'sport', 'politics', 'politics', 'business', 'politics', 'tech', 'sport', 'tech', 'sport', 'business', 'politics', 'tech', 'entertainment', 'entertainment', 'politics', 'entertainment', 'politics', 'sport', 'sport', 'politics', 'business', 'tech', 'sport', 'politics', 'politics', 'entertainment', 'sport', 'politics', 'politics', 'business', 'tech', 'tech', 'business', 'tech', 'sport', 'sport', 'business', 'politics', 'business', 'tech', 'sport', 'tech', 'politics', 'entertainment', 'sport', 'business', 'sport', 'entertainment', 'tech', 'tech', 'sport', 'politics', 'sport', 'business', 'sport', 'business', 'sport', 'sport', 'entertainment', 'entertainment', 'business', 'tech', 'tech', 'business', 'tech', 'business', 'business', 'sport', 'sport', 'politics', 'sport', 'tech', 'sport', 'tech', 'sport', 'sport', 'business', 'business', 'tech', 'sport', 'business', 'tech', 'tech', 'politics', 'sport', 'business', 'entertainment', 'entertainment', 'tech', 'politics', 'sport', 'sport', 'tech', 'business', 'tech', 'entertainment', 'entertainment', 'politics', 'politics', 'business', 'entertainment', 'sport', 'entertainment', 'entertainment', 'business', 'sport', 'politics', 'tech', 'business', 'sport', 'entertainment', 'tech', 'politics', 'politics', 'sport', 'sport', 'business', 'business', 'business', 'business', 'business', 'entertainment', 'business', 'politics', 'politics', 'tech', 'tech', 'entertainment', 'politics', 'entertainment', 'business', 'politics', 'sport', 'sport', 'business', 'tech', 'business', 'tech', 'sport', 'business', 'business', 'politics', 'sport', 'sport', 'politics', 'politics', 'entertainment', 'entertainment', 'politics', 'business', 'politics', 'politics', 'business', 'tech', 'politics', 'politics', 'politics', 'politics', 'politics', 'entertainment', 'entertainment', 'tech', 'politics', 'sport', 'politics', 'sport', 'tech', 'sport', 'sport', 'sport', 'entertainment', 'tech', 'entertainment', 'tech', 'sport', 'tech', 'sport', 'sport', 'entertainment', 'entertainment', 'business', 'entertainment', 'entertainment', 'politics', 'business', 'sport', 'tech', 'tech', 'politics', 'business', 'sport', 'business', 'entertainment', 'sport', 'politics', 'entertainment', 'sport', 'sport', 'business', 'politics', 'tech', 'tech', 'business', 'business', 'sport', 'politics', 'entertainment', 'sport', 'sport', 'politics', 'entertainment', 'tech', 'sport', 'entertainment', 'business', 'politics', 'sport', 'politics', 'tech', 'entertainment', 'sport', 'politics', 'business', 'entertainment', 'politics', 'entertainment', 'politics', 'sport', 'politics', 'business', 'business', 'politics', 'business', 'tech', 'sport', 'business', 'entertainment', 'business', 'sport', 'sport', 'entertainment', 'tech', 'politics', 'tech', 'politics', 'politics', 'sport', 'sport', 'sport', 'business', 'tech', 'entertainment', 'business', 'sport', 'business', 'sport', 'business', 'tech', 'business', 'business', 'business', 'business', 'sport', 'sport', 'sport', 'business', 'business', 'entertainment', 'business', 'business', 'business', 'sport', 'sport', 'sport', 'tech', 'business', 'sport', 'sport', 'sport', 'business', 'entertainment', 'tech', 'tech', 'tech', 'politics', 'business', 'business', 'tech', 'business', 'tech', 'sport', 'sport', 'politics', 'politics', 'politics', 'sport', 'sport', 'politics', 'politics', 'tech', 'business', 'sport', 'sport', 'sport', 'sport', 'business', 'sport', 'business', 'business', 'business', 'business', 'sport', 'politics', 'sport', 'tech', 'tech', 'sport', 'tech', 'business', 'entertainment', 'business', 'sport', 'business', 'tech', 'tech', 'politics', 'entertainment', 'business', 'entertainment', 'business', 'tech', 'politics', 'entertainment', 'politics', 'entertainment', 'entertainment', 'tech', 'business', 'tech', 'tech', 'business', 'politics', 'sport', 'entertainment', 'business', 'politics', 'entertainment', 'business', 'tech', 'sport', 'tech', 'politics', 'sport', 'politics', 'business', 'politics', 'politics', 'business', 'business', 'business', 'tech', 'politics', 'business', 'politics', 'business', 'entertainment', 'politics', 'sport', 'politics', 'politics', 'sport', 'entertainment', 'tech', 'tech', 'business', 'tech', 'sport', 'business', 'business', 'politics', 'sport', 'tech', 'tech', 'tech', 'sport', 'entertainment', 'sport', 'politics', 'business', 'politics', 'politics', 'entertainment', 'tech', 'business', 'tech', 'sport', 'entertainment', 'entertainment', 'sport', 'business', 'entertainment', 'tech', 'tech', 'sport', 'entertainment', 'business', 'politics', 'politics', 'politics', 'tech', 'tech', 'business', 'politics', 'business', 'politics', 'politics', 'entertainment', 'sport', 'tech', 'business', 'tech', 'entertainment', 'tech', 'tech', 'sport', 'politics', 'sport', 'sport', 'politics', 'entertainment', 'entertainment', 'business', 'politics', 'politics', 'sport', 'business', 'business', 'tech', 'business', 'tech', 'tech', 'sport', 'business', 'politics', 'sport', 'business', 'business', 'sport', 'tech', 'sport', 'tech', 'entertainment', 'sport', 'sport', 'entertainment', 'business', 'tech', 'sport', 'sport', 'politics', 'tech', 'business', 'politics', 'sport', 'sport', 'politics', 'entertainment', 'tech', 'tech', 'tech', 'business', 'sport', 'entertainment', 'entertainment', 'tech', 'business', 'politics', 'tech', 'sport', 'sport', 'tech', 'tech', 'politics', 'business', 'sport', 'entertainment', 'entertainment', 'sport', 'entertainment', 'tech', 'tech', 'business', 'business', 'business', 'sport', 'sport', 'tech', 'sport', 'business', 'tech', 'business', 'business', 'sport', 'business', 'politics', 'business', 'business', 'tech', 'business', 'tech', 'politics', 'tech', 'entertainment', 'politics', 'tech', 'entertainment', 'sport', 'politics', 'entertainment', 'business', 'tech', 'business', 'tech', 'entertainment', 'tech', 'sport', 'business', 'business', 'politics', 'entertainment', 'politics', 'sport']\n",
      "2225\n",
      "2225\n",
      "tv future hands viewers home theatre systems  plasma high-definition tvs  digital video recorders moving living room  way people watch tv will radically different five years  time.  according expert panel gathered annual consumer electronics show las vegas discuss new technologies will impact one favourite pastimes. us leading trend  programmes content will delivered viewers via home networks  cable  satellite  telecoms companies  broadband service providers front rooms portable devices.  one talked-about technologies ces digital personal video recorders (dvr pvr). set-top boxes  like us s tivo uk s sky+ system  allow people record  store  play  pause forward wind tv programmes want.  essentially  technology allows much personalised tv. also built-in high-definition tv sets  big business japan us  slower take off europe lack high-definition programming. not can people forward wind adverts  can also forget abiding network channel schedules  putting together a-la-carte entertainment. us networks cable satellite companies worried means terms advertising revenues well  brand identity  viewer loyalty channels. although us leads technology moment  also concern raised europe  particularly growing uptake services like sky+.  happens today  will see nine months years  time uk   adam hume  bbc broadcast s futurologist told bbc news website. likes bbc  no issues lost advertising revenue yet. pressing issue moment commercial uk broadcasters  brand loyalty important everyone.  will talking content brands rather network brands   said tim hanlon  brand communications firm starcom mediavest.  reality broadband connections  anybody can producer content.  added:  challenge now hard promote programme much choice.   means  said stacey jolna  senior vice president tv guide tv group  way people find content want watch simplified tv viewers. means networks  us terms  channels take leaf google s book search engine future  instead scheduler help people find want watch. kind channel model might work younger ipod generation used taking control gadgets play them. might not suit everyone  panel recognised. older generations comfortable familiar schedules channel brands know getting. perhaps not want much choice put hands  mr hanlon suggested.  end  kids just diapers pushing buttons already - everything possible available   said mr hanlon.  ultimately  consumer will tell market want.   50 000 new gadgets technologies showcased ces  many enhancing tv-watching experience. high-definition tv sets everywhere many new models lcd (liquid crystal display) tvs launched dvr capability built  instead external boxes. one example launched show humax s 26-inch lcd tv 80-hour tivo dvr dvd recorder. one us s biggest satellite tv companies  directtv  even launched branded dvr show 100-hours recording capability  instant replay  search function. set can pause rewind tv 90 hours. microsoft chief bill gates announced pre-show keynote speech partnership tivo  called tivotogo  means people can play recorded programmes windows pcs mobile devices. reflect increasing trend freeing multimedia people can watch want  want.\n"
     ]
    }
   ],
   "source": [
    "with open(\"/tmp/bbc-text.csv\", 'r') as csvfile:\n",
    "  datastore = csv.reader(csvfile, delimiter=',')\n",
    "  next(datastore)\n",
    "  for row in datastore:\n",
    "      labels.append(row[0])\n",
    "      sentence = row[1]\n",
    "      # removes the stopword from the sentences\n",
    "      for word in stopwords:\n",
    "        token = \" \" + word + \" \"\n",
    "        sentence = sentence.replace(token, \" \")\n",
    "      sentences.append(sentence)\n",
    "\n",
    "print(labels)   \n",
    "print(len(labels))\n",
    "print(len(sentences))\n",
    "print(sentences[0])\n",
    "# Expected Output\n",
    "# 2225\n",
    "# 2225\n",
    "# tv future hands viewers home theatre systems  plasma high-definition tvs  digital video recorders moving living room  way people watch tv will radically different five years  time.  according expert panel gathered annual consumer electronics show las vegas discuss new technologies will impact one favourite pastimes. us leading trend  programmes content will delivered viewers via home networks  cable  satellite  telecoms companies  broadband service providers front rooms portable devices.  one talked-about technologies ces digital personal video recorders (dvr pvr). set-top boxes  like us s tivo uk s sky+ system  allow people record  store  play  pause forward wind tv programmes want.  essentially  technology allows much personalised tv. also built-in high-definition tv sets  big business japan us  slower take off europe lack high-definition programming. not can people forward wind adverts  can also forget abiding network channel schedules  putting together a-la-carte entertainment. us networks cable satellite companies worried means terms advertising revenues well  brand identity  viewer loyalty channels. although us leads technology moment  also concern raised europe  particularly growing uptake services like sky+.  happens today  will see nine months years  time uk   adam hume  bbc broadcast s futurologist told bbc news website. likes bbc  no issues lost advertising revenue yet. pressing issue moment commercial uk broadcasters  brand loyalty important everyone.  will talking content brands rather network brands   said tim hanlon  brand communications firm starcom mediavest.  reality broadband connections  anybody can producer content.  added:  challenge now hard promote programme much choice.   means  said stacey jolna  senior vice president tv guide tv group  way people find content want watch simplified tv viewers. means networks  us terms  channels take leaf google s book search engine future  instead scheduler help people find want watch. kind channel model might work younger ipod generation used taking control gadgets play them. might not suit everyone  panel recognised. older generations comfortable familiar schedules channel brands know getting. perhaps not want much choice put hands  mr hanlon suggested.  end  kids just diapers pushing buttons already - everything possible available   said mr hanlon.  ultimately  consumer will tell market want.   50 000 new gadgets technologies showcased ces  many enhancing tv-watching experience. high-definition tv sets everywhere many new models lcd (liquid crystal display) tvs launched dvr capability built  instead external boxes. one example launched show humax s 26-inch lcd tv 80-hour tivo dvr dvd recorder. one us s biggest satellite tv companies  directtv  even launched branded dvr show 100-hours recording capability  instant replay  search function. set can pause rewind tv 90 hours. microsoft chief bill gates announced pre-show keynote speech partnership tivo  called tivotogo  means people can play recorded programmes windows pcs mobile devices. reflect increasing trend freeing multimedia people can watch want  want."
   ]
  },
  {
   "cell_type": "code",
   "execution_count": 6,
   "metadata": {
    "colab": {
     "base_uri": "https://localhost:8080/"
    },
    "id": "XfdaWh06ZGe3",
    "outputId": "88ef68ae-6283-4bba-f5fb-ab9b8b4ee0f9"
   },
   "outputs": [
    {
     "name": "stdout",
     "output_type": "stream",
     "text": [
      "['tech', 'business', 'sport', 'sport', 'entertainment', 'politics', 'politics', 'sport', 'sport', 'entertainment', 'entertainment', 'business', 'business', 'politics', 'sport', 'business', 'politics', 'sport', 'business', 'tech', 'tech', 'tech', 'sport', 'sport', 'tech', 'sport', 'entertainment', 'tech', 'politics', 'entertainment', 'politics', 'tech', 'entertainment', 'entertainment', 'business', 'politics', 'tech', 'entertainment', 'politics', 'business', 'politics', 'sport', 'business', 'sport', 'tech', 'entertainment', 'politics', 'politics', 'politics', 'business', 'sport', 'politics', 'business', 'business', 'sport', 'politics', 'business', 'sport', 'sport', 'business', 'business', 'sport', 'business', 'sport', 'business', 'tech', 'business', 'entertainment', 'tech', 'business', 'politics', 'business', 'politics', 'sport', 'business', 'tech', 'business', 'sport', 'sport', 'business', 'business', 'sport', 'politics', 'business', 'entertainment', 'politics', 'politics', 'business', 'entertainment', 'business', 'sport', 'sport', 'politics', 'sport', 'politics', 'sport', 'business', 'sport', 'business', 'entertainment', 'entertainment', 'sport', 'business', 'politics', 'politics', 'tech', 'sport', 'entertainment', 'sport', 'tech', 'business', 'entertainment', 'sport', 'entertainment', 'sport', 'entertainment', 'entertainment', 'politics', 'sport', 'sport', 'entertainment', 'politics', 'business', 'tech', 'business', 'business', 'tech', 'sport', 'politics', 'sport', 'tech', 'entertainment', 'sport', 'business', 'business', 'tech', 'entertainment', 'tech', 'sport', 'business', 'business', 'business', 'tech', 'sport', 'tech', 'business', 'sport', 'entertainment', 'sport', 'tech', 'sport', 'tech', 'politics', 'business', 'tech', 'entertainment', 'sport', 'business', 'politics', 'business', 'entertainment', 'politics', 'politics', 'entertainment', 'politics', 'business', 'entertainment', 'politics', 'politics', 'entertainment', 'politics', 'sport', 'business', 'politics', 'politics', 'business', 'entertainment', 'sport', 'business', 'business', 'sport', 'tech', 'sport', 'tech', 'tech', 'sport', 'business', 'sport', 'politics', 'entertainment', 'politics', 'business', 'politics', 'business', 'tech', 'politics', 'entertainment', 'politics', 'tech', 'business', 'sport', 'business', 'sport', 'tech', 'entertainment', 'business', 'politics', 'politics', 'entertainment', 'sport', 'entertainment', 'politics', 'sport', 'entertainment', 'sport', 'sport', 'entertainment', 'sport', 'politics', 'politics', 'entertainment', 'tech', 'sport', 'politics', 'business', 'entertainment', 'tech', 'sport', 'tech', 'sport', 'entertainment', 'politics', 'sport', 'entertainment', 'tech', 'business', 'tech', 'business', 'business', 'tech', 'business', 'sport', 'business', 'sport', 'business', 'sport', 'entertainment', 'business', 'business', 'entertainment', 'sport', 'sport', 'politics', 'tech', 'politics', 'politics', 'politics', 'tech', 'sport', 'tech', 'politics', 'business', 'tech', 'entertainment', 'tech', 'sport', 'sport', 'business', 'business', 'politics', 'business', 'tech', 'sport', 'entertainment', 'sport', 'politics', 'tech', 'entertainment', 'business', 'sport', 'entertainment', 'sport', 'tech', 'politics', 'tech', 'business', 'business', 'politics', 'politics', 'sport', 'business', 'tech', 'entertainment', 'politics', 'tech', 'business', 'entertainment', 'sport', 'entertainment', 'sport', 'entertainment', 'politics', 'business', 'sport', 'business', 'sport', 'sport', 'entertainment', 'sport', 'politics', 'politics', 'business', 'entertainment', 'tech', 'business', 'sport', 'business', 'entertainment', 'business', 'business', 'business', 'politics', 'business', 'politics', 'entertainment', 'entertainment', 'business', 'sport', 'business', 'politics', 'business', 'tech', 'entertainment', 'business', 'sport', 'sport', 'entertainment', 'business', 'business', 'politics', 'tech', 'entertainment', 'tech', 'politics', 'business', 'sport', 'politics', 'business', 'entertainment', 'tech', 'entertainment', 'tech', 'politics', 'sport', 'entertainment', 'business', 'politics', 'business', 'business', 'politics', 'sport', 'tech', 'business', 'business', 'entertainment', 'entertainment', 'tech', 'sport', 'business', 'entertainment', 'tech', 'tech', 'entertainment', 'entertainment', 'entertainment', 'politics', 'sport', 'politics', 'tech', 'business', 'entertainment', 'politics', 'business', 'entertainment', 'politics', 'politics', 'sport', 'sport', 'business', 'politics', 'entertainment', 'business', 'sport', 'business', 'business', 'sport', 'business', 'politics', 'politics', 'politics', 'sport', 'tech', 'tech', 'business', 'tech', 'sport', 'entertainment', 'business', 'politics', 'business', 'entertainment', 'business', 'politics', 'entertainment', 'politics', 'business', 'tech', 'business', 'sport', 'sport', 'business', 'sport', 'sport', 'entertainment', 'sport', 'sport', 'sport', 'tech', 'business', 'business', 'business', 'politics', 'sport', 'sport', 'business', 'tech', 'business', 'politics', 'sport', 'politics', 'tech', 'business', 'sport', 'entertainment', 'business', 'politics', 'tech', 'business', 'sport', 'business', 'politics', 'business', 'business', 'sport', 'entertainment', 'tech', 'politics', 'tech', 'business', 'sport', 'business', 'entertainment', 'tech', 'tech', 'business', 'sport', 'sport', 'entertainment', 'politics', 'politics', 'politics', 'sport', 'politics', 'tech', 'tech', 'entertainment', 'politics', 'tech', 'entertainment', 'business', 'sport', 'sport', 'tech', 'business', 'sport', 'sport', 'politics', 'sport', 'sport', 'business', 'sport', 'entertainment', 'tech', 'politics', 'sport', 'politics', 'tech', 'business', 'business', 'business', 'tech', 'business', 'business', 'sport', 'sport', 'sport', 'sport', 'business', 'tech', 'entertainment', 'sport', 'sport', 'tech', 'business', 'tech', 'entertainment', 'politics', 'sport', 'business', 'politics', 'business', 'tech', 'tech', 'politics', 'tech', 'business', 'sport', 'business', 'entertainment', 'sport', 'politics', 'entertainment', 'sport', 'sport', 'politics', 'tech', 'entertainment', 'tech', 'sport', 'politics', 'business', 'entertainment', 'politics', 'business', 'entertainment', 'sport', 'sport', 'tech', 'politics', 'entertainment', 'politics', 'entertainment', 'politics', 'tech', 'politics', 'entertainment', 'sport', 'business', 'sport', 'entertainment', 'sport', 'entertainment', 'tech', 'business', 'sport', 'politics', 'entertainment', 'politics', 'entertainment', 'entertainment', 'entertainment', 'politics', 'entertainment', 'tech', 'politics', 'tech', 'tech', 'sport', 'sport', 'tech', 'tech', 'sport', 'entertainment', 'entertainment', 'sport', 'tech', 'entertainment', 'sport', 'sport', 'tech', 'business', 'politics', 'tech', 'business', 'sport', 'entertainment', 'sport', 'entertainment', 'politics', 'tech', 'entertainment', 'entertainment', 'business', 'entertainment', 'entertainment', 'sport', 'tech', 'tech', 'politics', 'sport', 'tech', 'sport', 'politics', 'politics', 'entertainment', 'tech', 'business', 'tech', 'tech', 'tech', 'business', 'politics', 'politics', 'sport', 'tech', 'business', 'business', 'entertainment', 'entertainment', 'sport', 'tech', 'business', 'tech', 'entertainment', 'sport', 'tech', 'politics', 'tech', 'politics', 'business', 'politics', 'politics', 'business', 'sport', 'tech', 'sport', 'tech', 'politics', 'entertainment', 'tech', 'sport', 'entertainment', 'tech', 'sport', 'politics', 'entertainment', 'sport', 'tech', 'sport', 'sport', 'politics', 'entertainment', 'business', 'politics', 'entertainment', 'business', 'business', 'tech', 'business', 'entertainment', 'tech', 'sport', 'tech', 'politics', 'tech', 'politics', 'business', 'politics', 'entertainment', 'sport', 'business', 'business', 'business', 'entertainment', 'sport', 'business', 'entertainment', 'entertainment', 'sport', 'entertainment', 'politics', 'politics', 'politics', 'sport', 'sport', 'sport', 'tech', 'politics', 'sport', 'politics', 'politics', 'tech', 'politics', 'sport', 'business', 'entertainment', 'sport', 'business', 'business', 'tech', 'business', 'entertainment', 'entertainment', 'entertainment', 'business', 'entertainment', 'entertainment', 'politics', 'tech', 'business', 'sport', 'tech', 'sport', 'sport', 'politics', 'business', 'sport', 'tech', 'business', 'sport', 'tech', 'sport', 'sport', 'entertainment', 'sport', 'business', 'sport', 'business', 'tech', 'politics', 'tech', 'business', 'sport', 'sport', 'business', 'business', 'business', 'business', 'politics', 'sport', 'business', 'tech', 'business', 'sport', 'politics', 'business', 'tech', 'business', 'sport', 'business', 'politics', 'entertainment', 'sport', 'business', 'politics', 'business', 'entertainment', 'business', 'business', 'business', 'sport', 'politics', 'entertainment', 'sport', 'politics', 'sport', 'politics', 'politics', 'business', 'business', 'sport', 'tech', 'entertainment', 'sport', 'entertainment', 'business', 'business', 'business', 'tech', 'sport', 'tech', 'politics', 'tech', 'tech', 'tech', 'sport', 'tech', 'tech', 'entertainment', 'entertainment', 'tech', 'sport', 'entertainment', 'tech', 'sport', 'sport', 'business', 'entertainment', 'tech', 'business', 'sport', 'business', 'politics', 'business', 'entertainment', 'tech', 'business', 'politics', 'business', 'tech', 'sport', 'business', 'entertainment', 'business', 'politics', 'sport', 'entertainment', 'politics', 'sport', 'business', 'sport', 'politics', 'politics', 'sport', 'entertainment', 'entertainment', 'business', 'business', 'sport', 'tech', 'tech', 'sport', 'entertainment', 'tech', 'tech', 'business', 'sport', 'entertainment', 'tech', 'sport', 'sport', 'business', 'entertainment', 'business', 'business', 'business', 'entertainment', 'sport', 'entertainment', 'tech', 'tech', 'tech', 'politics', 'tech', 'tech', 'entertainment', 'entertainment', 'sport', 'sport', 'politics', 'business', 'entertainment', 'sport', 'politics', 'entertainment', 'tech', 'politics', 'tech', 'tech', 'business', 'entertainment', 'politics', 'tech', 'politics', 'politics', 'sport', 'politics', 'politics', 'entertainment', 'tech', 'sport', 'politics', 'sport', 'entertainment', 'politics', 'business', 'business', 'politics', 'sport', 'sport', 'sport', 'entertainment', 'tech', 'tech', 'business', 'entertainment', 'sport', 'politics', 'tech', 'politics', 'entertainment', 'tech', 'tech', 'business', 'business', 'sport', 'business', 'business', 'tech', 'politics', 'entertainment', 'business', 'business', 'business', 'business', 'business', 'tech', 'sport', 'politics', 'tech', 'tech', 'business', 'business', 'entertainment', 'politics', 'entertainment', 'sport', 'tech', 'sport', 'entertainment', 'sport', 'tech', 'sport', 'business', 'sport', 'politics', 'politics', 'entertainment', 'business', 'sport', 'politics', 'politics', 'sport', 'entertainment', 'politics', 'business', 'tech', 'sport', 'business', 'business', 'business', 'entertainment', 'entertainment', 'tech', 'tech', 'business', 'business', 'entertainment', 'sport', 'business', 'entertainment', 'tech', 'tech', 'business', 'business', 'sport', 'sport', 'sport', 'politics', 'politics', 'sport', 'politics', 'sport', 'business', 'entertainment', 'sport', 'tech', 'entertainment', 'sport', 'sport', 'business', 'business', 'tech', 'tech', 'sport', 'entertainment', 'sport', 'entertainment', 'sport', 'entertainment', 'politics', 'entertainment', 'entertainment', 'tech', 'entertainment', 'business', 'business', 'politics', 'sport', 'politics', 'tech', 'business', 'politics', 'sport', 'politics', 'sport', 'entertainment', 'sport', 'politics', 'sport', 'sport', 'tech', 'entertainment', 'sport', 'politics', 'sport', 'sport', 'business', 'tech', 'entertainment', 'politics', 'tech', 'entertainment', 'politics', 'entertainment', 'politics', 'entertainment', 'entertainment', 'tech', 'entertainment', 'politics', 'entertainment', 'entertainment', 'tech', 'tech', 'sport', 'sport', 'entertainment', 'entertainment', 'tech', 'entertainment', 'politics', 'tech', 'entertainment', 'business', 'tech', 'sport', 'business', 'entertainment', 'entertainment', 'tech', 'entertainment', 'tech', 'business', 'entertainment', 'sport', 'entertainment', 'business', 'sport', 'business', 'sport', 'politics', 'tech', 'entertainment', 'politics', 'business', 'entertainment', 'entertainment', 'politics', 'business', 'entertainment', 'sport', 'politics', 'sport', 'business', 'business', 'business', 'business', 'business', 'entertainment', 'tech', 'sport', 'entertainment', 'entertainment', 'business', 'sport', 'tech', 'tech', 'entertainment', 'sport', 'business', 'politics', 'business', 'politics', 'business', 'business', 'entertainment', 'politics', 'business', 'business', 'tech', 'politics', 'sport', 'tech', 'entertainment', 'politics', 'business', 'business', 'sport', 'entertainment', 'politics', 'tech', 'business', 'business', 'politics', 'business', 'sport', 'entertainment', 'sport', 'entertainment', 'tech', 'politics', 'business', 'business', 'tech', 'business', 'business', 'sport', 'business', 'tech', 'entertainment', 'politics', 'business', 'politics', 'business', 'sport', 'tech', 'business', 'politics', 'entertainment', 'tech', 'business', 'entertainment', 'sport', 'politics', 'politics', 'sport', 'politics', 'business', 'tech', 'entertainment', 'sport', 'sport', 'tech', 'business', 'sport', 'entertainment', 'tech', 'sport', 'politics', 'sport', 'business', 'business', 'business', 'politics', 'entertainment', 'sport', 'politics', 'tech', 'business', 'business', 'tech', 'entertainment', 'entertainment', 'tech', 'tech', 'sport', 'sport', 'entertainment', 'tech', 'entertainment', 'sport', 'politics', 'tech', 'business', 'sport', 'entertainment', 'business', 'business', 'entertainment', 'sport', 'business', 'sport', 'tech', 'politics', 'politics', 'tech', 'entertainment', 'politics', 'entertainment', 'business', 'business', 'politics', 'sport', 'tech', 'sport', 'sport', 'sport', 'politics', 'business', 'sport', 'business', 'tech', 'sport', 'business', 'business', 'sport', 'politics', 'tech', 'sport', 'business', 'tech', 'sport', 'sport', 'business', 'business', 'business', 'business', 'politics', 'entertainment', 'tech', 'business', 'business', 'sport', 'business', 'entertainment', 'business', 'entertainment', 'sport', 'politics', 'business', 'business', 'tech', 'entertainment', 'business', 'business', 'business', 'politics', 'business', 'politics', 'tech', 'entertainment', 'politics', 'entertainment', 'sport', 'tech', 'politics', 'business', 'tech', 'sport', 'business', 'business', 'entertainment', 'tech', 'business', 'business', 'sport', 'sport', 'entertainment', 'sport', 'politics', 'sport', 'business', 'sport', 'business', 'politics', 'politics', 'business', 'politics', 'tech', 'entertainment', 'sport', 'business', 'entertainment', 'sport', 'politics', 'politics', 'tech', 'entertainment', 'business', 'politics', 'politics', 'sport', 'tech', 'business', 'sport', 'entertainment', 'sport', 'entertainment', 'sport', 'business', 'sport', 'politics', 'entertainment', 'tech', 'business', 'sport', 'politics', 'tech', 'sport', 'entertainment', 'business', 'sport', 'entertainment', 'sport', 'tech', 'sport', 'tech', 'politics', 'sport', 'business', 'entertainment', 'tech', 'tech', 'politics', 'tech', 'entertainment', 'tech', 'sport', 'business', 'tech', 'business', 'entertainment', 'sport', 'tech', 'politics', 'politics', 'politics', 'politics', 'entertainment', 'entertainment', 'entertainment', 'business', 'politics', 'politics', 'sport', 'sport', 'tech', 'sport', 'politics', 'business', 'business', 'tech', 'sport', 'tech', 'business', 'tech', 'politics', 'politics', 'sport', 'business', 'politics', 'sport', 'business', 'tech', 'business', 'business', 'entertainment', 'entertainment', 'sport', 'business', 'tech', 'tech', 'politics', 'business', 'politics', 'sport', 'entertainment', 'entertainment', 'politics', 'politics', 'business', 'business', 'tech', 'tech', 'sport', 'sport', 'politics', 'tech', 'sport', 'tech', 'business', 'sport', 'business', 'politics', 'sport', 'entertainment', 'business', 'tech', 'politics', 'entertainment', 'tech', 'business', 'sport', 'entertainment', 'tech', 'tech', 'entertainment', 'politics', 'tech', 'entertainment', 'sport', 'entertainment', 'sport', 'sport', 'sport', 'politics', 'tech', 'sport', 'business', 'sport', 'sport', 'business', 'tech', 'sport', 'business', 'entertainment', 'politics', 'tech', 'sport', 'politics', 'tech', 'entertainment', 'politics', 'sport', 'politics', 'tech', 'business', 'entertainment', 'sport', 'politics', 'business', 'tech', 'tech', 'tech', 'politics', 'business', 'sport', 'politics', 'entertainment', 'tech', 'entertainment', 'sport', 'tech', 'business', 'politics', 'entertainment', 'tech', 'politics', 'sport', 'sport', 'business', 'entertainment', 'business', 'business', 'politics', 'business', 'business', 'politics', 'tech', 'entertainment', 'politics', 'entertainment', 'entertainment', 'business', 'politics', 'sport', 'politics', 'entertainment', 'sport', 'entertainment', 'politics', 'entertainment', 'entertainment', 'entertainment', 'business', 'sport', 'politics', 'sport', 'entertainment', 'tech', 'tech', 'business', 'politics', 'entertainment', 'business', 'sport', 'business', 'politics', 'politics', 'business', 'sport', 'tech', 'tech', 'tech', 'business', 'politics', 'politics', 'business', 'sport', 'sport', 'entertainment', 'business', 'sport', 'sport', 'politics', 'politics', 'politics', 'entertainment', 'politics', 'business', 'tech', 'business', 'politics', 'entertainment', 'entertainment', 'business', 'sport', 'politics', 'entertainment', 'sport', 'entertainment', 'politics', 'politics', 'business', 'politics', 'sport', 'entertainment', 'entertainment', 'tech', 'tech', 'tech', 'tech', 'politics', 'tech', 'business', 'tech', 'sport', 'sport', 'entertainment', 'business', 'tech', 'entertainment', 'business', 'tech', 'sport', 'tech', 'entertainment', 'entertainment', 'politics', 'politics', 'sport', 'business', 'business', 'tech', 'entertainment', 'sport', 'politics', 'business', 'tech', 'entertainment', 'politics', 'sport', 'entertainment', 'politics', 'politics', 'tech', 'sport', 'politics', 'business', 'politics', 'entertainment', 'tech', 'sport', 'politics', 'entertainment', 'entertainment', 'business', 'sport', 'tech', 'tech', 'sport', 'entertainment', 'tech', 'politics', 'tech', 'sport', 'politics', 'politics', 'sport', 'entertainment', 'sport', 'politics', 'sport', 'tech', 'entertainment', 'sport', 'entertainment', 'business', 'business', 'entertainment', 'entertainment', 'entertainment', 'tech', 'sport', 'business', 'business', 'politics', 'politics', 'business', 'politics', 'entertainment', 'sport', 'sport', 'tech', 'politics', 'sport', 'business', 'sport', 'business', 'tech', 'sport', 'sport', 'business', 'entertainment', 'sport', 'sport', 'tech', 'sport', 'business', 'politics', 'business', 'entertainment', 'tech', 'entertainment', 'politics', 'business', 'entertainment', 'politics', 'entertainment', 'politics', 'politics', 'business', 'sport', 'sport', 'sport', 'tech', 'tech', 'sport', 'politics', 'entertainment', 'tech', 'sport', 'entertainment', 'business', 'entertainment', 'politics', 'business', 'sport', 'tech', 'business', 'sport', 'politics', 'business', 'entertainment', 'entertainment', 'entertainment', 'politics', 'entertainment', 'politics', 'entertainment', 'sport', 'entertainment', 'sport', 'politics', 'politics', 'business', 'politics', 'tech', 'sport', 'tech', 'sport', 'business', 'politics', 'tech', 'entertainment', 'entertainment', 'politics', 'entertainment', 'politics', 'sport', 'sport', 'politics', 'business', 'tech', 'sport', 'politics', 'politics', 'entertainment', 'sport', 'politics', 'politics', 'business', 'tech', 'tech', 'business', 'tech', 'sport', 'sport', 'business', 'politics', 'business', 'tech', 'sport', 'tech', 'politics', 'entertainment', 'sport', 'business', 'sport', 'entertainment', 'tech', 'tech', 'sport', 'politics', 'sport', 'business', 'sport', 'business', 'sport', 'sport', 'entertainment', 'entertainment', 'business', 'tech', 'tech', 'business', 'tech', 'business', 'business', 'sport', 'sport', 'politics', 'sport', 'tech', 'sport', 'tech', 'sport', 'sport', 'business', 'business', 'tech', 'sport', 'business', 'tech', 'tech', 'politics', 'sport', 'business', 'entertainment']\n",
      "1780\n",
      "1780\n",
      "1780\n",
      "445\n",
      "445\n"
     ]
    }
   ],
   "source": [
    "train_size = int(training_portion * len(sentences))\n",
    "\n",
    "train_sentences = sentences[:train_size]\n",
    "train_labels = labels[:train_size]\n",
    "\n",
    "validation_sentences = sentences[train_size:]\n",
    "validation_labels = labels[train_size:]\n",
    "\n",
    "print(train_labels)\n",
    "print(train_size)\n",
    "print(len(train_sentences))\n",
    "print(len(train_labels))\n",
    "print(len(validation_sentences))\n",
    "print(len(validation_labels))\n",
    "\n",
    "# Expected output (if training_portion=.8)\n",
    "# 1780\n",
    "# 1780\n",
    "# 1780\n",
    "# 445\n",
    "# 445"
   ]
  },
  {
   "cell_type": "code",
   "execution_count": 7,
   "metadata": {
    "colab": {
     "base_uri": "https://localhost:8080/"
    },
    "id": "ULzA8xhwZI22",
    "outputId": "266cb752-9412-4eaf-8d57-d7590eb44aa3"
   },
   "outputs": [
    {
     "name": "stdout",
     "output_type": "stream",
     "text": [
      "449\n",
      "120\n",
      "200\n",
      "120\n",
      "192\n",
      "120\n"
     ]
    }
   ],
   "source": [
    "tokenizer = Tokenizer(num_words=vocab_size, oov_token=oov_tok)\n",
    "tokenizer.fit_on_texts(train_sentences)\n",
    "word_index = tokenizer.word_index\n",
    "\n",
    "train_sequences = tokenizer.texts_to_sequences(train_sentences)\n",
    "train_padded = pad_sequences(train_sequences, maxlen=max_length, padding=padding_type, truncating=trunc_type)\n",
    "\n",
    "print(len(train_sequences[0]))\n",
    "print(len(train_padded[0]))\n",
    "\n",
    "print(len(train_sequences[1]))\n",
    "print(len(train_padded[1]))\n",
    "\n",
    "print(len(train_sequences[10]))\n",
    "print(len(train_padded[10]))\n",
    "\n",
    "# Expected Ouput\n",
    "# 449\n",
    "# 120\n",
    "# 200\n",
    "# 120\n",
    "# 192\n",
    "# 120"
   ]
  },
  {
   "cell_type": "code",
   "execution_count": 8,
   "metadata": {
    "colab": {
     "base_uri": "https://localhost:8080/"
    },
    "id": "c8PeFWzPZLW_",
    "outputId": "a7449895-73e9-46f1-8871-de3d8c9edee2"
   },
   "outputs": [
    {
     "name": "stdout",
     "output_type": "stream",
     "text": [
      "445\n",
      "(445, 120)\n"
     ]
    }
   ],
   "source": [
    "validation_sequences = tokenizer.texts_to_sequences(validation_sentences)\n",
    "validation_padded = pad_sequences(validation_sequences, maxlen=max_length, padding=padding_type, truncating=trunc_type)\n",
    "\n",
    "print(len(validation_sequences))\n",
    "print(validation_padded.shape)\n",
    "\n",
    "# Expected output\n",
    "# 445\n",
    "# (445, 120)"
   ]
  },
  {
   "cell_type": "code",
   "execution_count": 9,
   "metadata": {
    "colab": {
     "base_uri": "https://localhost:8080/"
    },
    "id": "XkWiQ_FKZNp2",
    "outputId": "01ab81e7-0c5b-489a-da21-7fc2a0be053b"
   },
   "outputs": [
    {
     "name": "stdout",
     "output_type": "stream",
     "text": [
      "[4]\n",
      "[2]\n",
      "[1]\n",
      "(1780, 1)\n",
      "[5]\n",
      "[4]\n",
      "[3]\n",
      "(445, 1)\n"
     ]
    }
   ],
   "source": [
    "label_tokenizer = Tokenizer()\n",
    "label_tokenizer.fit_on_texts(labels)\n",
    "\n",
    "training_label_seq = label_tokenizer.texts_to_sequences(train_labels)\n",
    "validation_label_seq = label_tokenizer.texts_to_sequences(validation_labels)\n",
    "\n",
    "training_label_seq = np.array(training_label_seq)\n",
    "validation_label_seq = np.array(validation_label_seq)\n",
    "\n",
    "print(training_label_seq[0])\n",
    "print(training_label_seq[1])\n",
    "print(training_label_seq[2])\n",
    "print(training_label_seq.shape)\n",
    "\n",
    "print(validation_label_seq[0])\n",
    "print(validation_label_seq[1])\n",
    "print(validation_label_seq[2])\n",
    "print(validation_label_seq.shape)\n",
    "\n",
    "# Expected output\n",
    "# [4]\n",
    "# [2]\n",
    "# [1]\n",
    "# (1780, 1)\n",
    "# [5]\n",
    "# [4]\n",
    "# [3]\n",
    "# (445, 1)"
   ]
  },
  {
   "cell_type": "code",
   "execution_count": 10,
   "metadata": {
    "colab": {
     "base_uri": "https://localhost:8080/"
    },
    "id": "HZ5um4MWZP-W",
    "outputId": "5833b18f-bb55-41f2-c62d-0125a5ef2f70"
   },
   "outputs": [
    {
     "name": "stdout",
     "output_type": "stream",
     "text": [
      "Model: \"sequential\"\n",
      "_________________________________________________________________\n",
      "Layer (type)                 Output Shape              Param #   \n",
      "=================================================================\n",
      "embedding (Embedding)        (None, 120, 16)           160000    \n",
      "_________________________________________________________________\n",
      "global_average_pooling1d (Gl (None, 16)                0         \n",
      "_________________________________________________________________\n",
      "dense (Dense)                (None, 24)                408       \n",
      "_________________________________________________________________\n",
      "dense_1 (Dense)              (None, 6)                 150       \n",
      "=================================================================\n",
      "Total params: 160,558\n",
      "Trainable params: 160,558\n",
      "Non-trainable params: 0\n",
      "_________________________________________________________________\n"
     ]
    }
   ],
   "source": [
    "model = tf.keras.Sequential([\n",
    "  tf.keras.layers.Embedding(vocab_size, embedding_dim, input_length=max_length),\n",
    "  tf.keras.layers.GlobalAveragePooling1D(),\n",
    "  tf.keras.layers.Dense(24, activation='relu'),\n",
    "  tf.keras.layers.Dense(6, activation='softmax')\n",
    "])\n",
    "model.compile(loss='sparse_categorical_crossentropy',optimizer='adam',metrics=['accuracy'])\n",
    "model.summary()\n",
    "\n",
    "# Expected Output\n",
    "# Layer (type)                 Output Shape              Param #   \n",
    "# =================================================================\n",
    "# embedding (Embedding)        (None, 120, 16)           16000     \n",
    "# _________________________________________________________________\n",
    "# global_average_pooling1d (Gl (None, 16)                0         \n",
    "# _________________________________________________________________\n",
    "# dense (Dense)                (None, 24)                408       \n",
    "# _________________________________________________________________\n",
    "# dense_1 (Dense)              (None, 6)                 150       \n",
    "# =================================================================\n",
    "# Total params: 16,558\n",
    "# Trainable params: 16,558\n",
    "# Non-trainable params: 0"
   ]
  },
  {
   "cell_type": "code",
   "execution_count": 11,
   "metadata": {
    "colab": {
     "base_uri": "https://localhost:8080/"
    },
    "id": "XsfdxySKZSXu",
    "outputId": "e75f6a5a-12ab-4e33-8410-86296e0bd991"
   },
   "outputs": [
    {
     "name": "stdout",
     "output_type": "stream",
     "text": [
      "Epoch 1/30\n",
      "56/56 - 1s - loss: 1.7615 - accuracy: 0.3062 - val_loss: 1.7171 - val_accuracy: 0.3978\n",
      "Epoch 2/30\n",
      "56/56 - 0s - loss: 1.6508 - accuracy: 0.4517 - val_loss: 1.5722 - val_accuracy: 0.4809\n",
      "Epoch 3/30\n",
      "56/56 - 0s - loss: 1.4405 - accuracy: 0.5989 - val_loss: 1.3247 - val_accuracy: 0.7079\n",
      "Epoch 4/30\n",
      "56/56 - 0s - loss: 1.1176 - accuracy: 0.8758 - val_loss: 1.0031 - val_accuracy: 0.8742\n",
      "Epoch 5/30\n",
      "56/56 - 0s - loss: 0.7572 - accuracy: 0.9646 - val_loss: 0.6972 - val_accuracy: 0.9416\n",
      "Epoch 6/30\n",
      "56/56 - 0s - loss: 0.4694 - accuracy: 0.9865 - val_loss: 0.4856 - val_accuracy: 0.9528\n",
      "Epoch 7/30\n",
      "56/56 - 0s - loss: 0.2886 - accuracy: 0.9916 - val_loss: 0.3616 - val_accuracy: 0.9596\n",
      "Epoch 8/30\n",
      "56/56 - 0s - loss: 0.1860 - accuracy: 0.9933 - val_loss: 0.2901 - val_accuracy: 0.9573\n",
      "Epoch 9/30\n",
      "56/56 - 0s - loss: 0.1255 - accuracy: 0.9966 - val_loss: 0.2427 - val_accuracy: 0.9663\n",
      "Epoch 10/30\n",
      "56/56 - 0s - loss: 0.0884 - accuracy: 0.9978 - val_loss: 0.2130 - val_accuracy: 0.9663\n",
      "Epoch 11/30\n",
      "\n",
      "Reached 99.8% accuracy so cancelling training!\n",
      "56/56 - 0s - loss: 0.0650 - accuracy: 0.9983 - val_loss: 0.1937 - val_accuracy: 0.9663\n"
     ]
    }
   ],
   "source": [
    "class myCallback(tf.keras.callbacks.Callback):\n",
    "    def on_epoch_end(self, epoch, logs={}):\n",
    "        if(logs.get('accuracy')>0.998):\n",
    "            print(\"\\nReached 99.8% accuracy so cancelling training!\")\n",
    "            self.model.stop_training = True\n",
    "\n",
    "callbacks = myCallback()\n",
    "num_epochs = 30\n",
    "history = model.fit(train_padded, training_label_seq, epochs=num_epochs, validation_data=(validation_padded, validation_label_seq), verbose=2, callbacks=[callbacks])"
   ]
  },
  {
   "cell_type": "code",
   "execution_count": 12,
   "metadata": {
    "colab": {
     "base_uri": "https://localhost:8080/",
     "height": 541
    },
    "id": "dQ0BX2apXS9u",
    "outputId": "76c86d45-fe9b-44bb-94ef-b88ff2057bfa"
   },
   "outputs": [
    {
     "data": {
      "image/png": "[encoded data removed]",
      "text/plain": [
       "<Figure size 432x288 with 1 Axes>"
      ]
     },
     "metadata": {
      "needs_background": "light",
      "tags": []
     },
     "output_type": "display_data"
    },
    {
     "data": {
      "image/png": "[encoded data removed]",
      "text/plain": [
       "<Figure size 432x288 with 1 Axes>"
      ]
     },
     "metadata": {
      "needs_background": "light",
      "tags": []
     },
     "output_type": "display_data"
    }
   ],
   "source": [
    "import matplotlib.pyplot as plt\n",
    "\n",
    "\n",
    "def plot_graphs(history, string):\n",
    "  plt.plot(history.history[string])\n",
    "  plt.plot(history.history['val_'+string])\n",
    "  plt.xlabel(\"Epochs\")\n",
    "  plt.ylabel(string)\n",
    "  plt.legend([string, 'val_'+string])\n",
    "  plt.show()\n",
    "  \n",
    "plot_graphs(history, \"accuracy\")\n",
    "plot_graphs(history, \"loss\")"
   ]
  },
  {
   "cell_type": "code",
   "execution_count": 13,
   "metadata": {
    "id": "w7Xc-uWxXhML"
   },
   "outputs": [],
   "source": [
    "reverse_word_index = dict([(value, key) for (key, value) in word_index.items()])\n",
    "\n",
    "def decode_sentence(text):\n",
    "    return ' '.join([reverse_word_index.get(i, '?') for i in text])\n"
   ]
  },
  {
   "cell_type": "code",
   "execution_count": 14,
   "metadata": {
    "colab": {
     "base_uri": "https://localhost:8080/"
    },
    "id": "OhnFA_TDXrih",
    "outputId": "beafee26-6311-457a-b86a-21b58605bd83"
   },
   "outputs": [
    {
     "name": "stdout",
     "output_type": "stream",
     "text": [
      "(10000, 16)\n"
     ]
    }
   ],
   "source": [
    "e = model.layers[0]\n",
    "weights = e.get_weights()[0]\n",
    "print(weights.shape) # shape: (vocab_size, embedding_dim)\n",
    "\n",
    "# Expected output\n",
    "# (1000, 16)"
   ]
  },
  {
   "cell_type": "code",
   "execution_count": 15,
   "metadata": {
    "id": "_POzcWWAXudL"
   },
   "outputs": [],
   "source": [
    "import io\n",
    "\n",
    "out_v = io.open('vecs.tsv', 'w', encoding='utf-8')\n",
    "out_m = io.open('meta.tsv', 'w', encoding='utf-8')\n",
    "for word_num in range(1, vocab_size):\n",
    "  word = reverse_word_index[word_num]\n",
    "  embeddings = weights[word_num]\n",
    "  out_m.write(word + \"\\n\")\n",
    "  out_v.write('\\t'.join([str(x) for x in embeddings]) + \"\\n\")\n",
    "out_v.close()\n",
    "out_m.close()"
   ]
  },
  {
   "cell_type": "code",
   "execution_count": 16,
   "metadata": {
    "colab": {
     "base_uri": "https://localhost:8080/",
     "height": 17
    },
    "id": "VmqpQMZ_XyOa",
    "outputId": "09f3cfe4-8b41-49b0-875b-3cbacadc91b8"
   },
   "outputs": [
    {
     "data": {
      "application/javascript": [
       "\n",
       "    async function download(id, filename, size) {\n",
       "      if (!google.colab.kernel.accessAllowed) {\n",
       "        return;\n",
       "      }\n",
       "      const div = document.createElement('div');\n",
       "      const label = document.createElement('label');\n",
       "      label.textContent = `Downloading \"${filename}\": `;\n",
       "      div.appendChild(label);\n",
       "      const progress = document.createElement('progress');\n",
       "      progress.max = size;\n",
       "      div.appendChild(progress);\n",
       "      document.body.appendChild(div);\n",
       "\n",
       "      const buffers = [];\n",
       "      let downloaded = 0;\n",
       "\n",
       "      const channel = await google.colab.kernel.comms.open(id);\n",
       "      // Send a message to notify the kernel that we're ready.\n",
       "      channel.send({})\n",
       "\n",
       "      for await (const message of channel.messages) {\n",
       "        // Send a message to notify the kernel that we're ready.\n",
       "        channel.send({})\n",
       "        if (message.buffers) {\n",
       "          for (const buffer of message.buffers) {\n",
       "            buffers.push(buffer);\n",
       "            downloaded += buffer.byteLength;\n",
       "            progress.value = downloaded;\n",
       "          }\n",
       "        }\n",
       "      }\n",
       "      const blob = new Blob(buffers, {type: 'application/binary'});\n",
       "      const a = document.createElement('a');\n",
       "      a.href = window.URL.createObjectURL(blob);\n",
       "      a.download = filename;\n",
       "      div.appendChild(a);\n",
       "      a.click();\n",
       "      div.remove();\n",
       "    }\n",
       "  "
      ],
      "text/plain": [
       "<IPython.core.display.Javascript object>"
      ]
     },
     "metadata": {
      "tags": []
     },
     "output_type": "display_data"
    },
    {
     "data": {
      "application/javascript": [
       "download(\"download_cb924a9c-75bb-455d-9e8e-2c886409db9a\", \"vecs.tsv\", 1897992)"
      ],
      "text/plain": [
       "<IPython.core.display.Javascript object>"
      ]
     },
     "metadata": {
      "tags": []
     },
     "output_type": "display_data"
    },
    {
     "data": {
      "application/javascript": [
       "\n",
       "    async function download(id, filename, size) {\n",
       "      if (!google.colab.kernel.accessAllowed) {\n",
       "        return;\n",
       "      }\n",
       "      const div = document.createElement('div');\n",
       "      const label = document.createElement('label');\n",
       "      label.textContent = `Downloading \"${filename}\": `;\n",
       "      div.appendChild(label);\n",
       "      const progress = document.createElement('progress');\n",
       "      progress.max = size;\n",
       "      div.appendChild(progress);\n",
       "      document.body.appendChild(div);\n",
       "\n",
       "      const buffers = [];\n",
       "      let downloaded = 0;\n",
       "\n",
       "      const channel = await google.colab.kernel.comms.open(id);\n",
       "      // Send a message to notify the kernel that we're ready.\n",
       "      channel.send({})\n",
       "\n",
       "      for await (const message of channel.messages) {\n",
       "        // Send a message to notify the kernel that we're ready.\n",
       "        channel.send({})\n",
       "        if (message.buffers) {\n",
       "          for (const buffer of message.buffers) {\n",
       "            buffers.push(buffer);\n",
       "            downloaded += buffer.byteLength;\n",
       "            progress.value = downloaded;\n",
       "          }\n",
       "        }\n",
       "      }\n",
       "      const blob = new Blob(buffers, {type: 'application/binary'});\n",
       "      const a = document.createElement('a');\n",
       "      a.href = window.URL.createObjectURL(blob);\n",
       "      a.download = filename;\n",
       "      div.appendChild(a);\n",
       "      a.click();\n",
       "      div.remove();\n",
       "    }\n",
       "  "
      ],
      "text/plain": [
       "<IPython.core.display.Javascript object>"
      ]
     },
     "metadata": {
      "tags": []
     },
     "output_type": "display_data"
    },
    {
     "data": {
      "application/javascript": [
       "download(\"download_f1292b7f-0326-4e70-b819-6bfe5a655f2d\", \"meta.tsv\", 77690)"
      ],
      "text/plain": [
       "<IPython.core.display.Javascript object>"
      ]
     },
     "metadata": {
      "tags": []
     },
     "output_type": "display_data"
    }
   ],
   "source": [
    "try:\n",
    "  from google.colab import files\n",
    "except ImportError:\n",
    "  pass\n",
    "else:\n",
    "  files.download('vecs.tsv')\n",
    "  files.download('meta.tsv')"
   ]
  },
  {
   "cell_type": "code",
   "execution_count": null,
   "metadata": {
    "id": "TWBfA1oQzGVl"
   },
   "outputs": [],
   "source": []
  }
 ],
 "metadata": {
  "accelerator": "GPU",
  "colab": {
   "name": "Course 3 - Week 2 - Exercise - Question.ipynb",
   "provenance": []
  },
  "kernelspec": {
   "display_name": "Python 3",
   "language": "python",
   "name": "python3"
  },
  "language_info": {
   "codemirror_mode": {
    "name": "ipython",
    "version": 3
   },
   "file_extension": ".py",
   "mimetype": "text/x-python",
   "name": "python",
   "nbconvert_exporter": "python",
   "pygments_lexer": "ipython3",
   "version": "3.8.5"
  }
 },
 "nbformat": 4,
 "nbformat_minor": 1
}
