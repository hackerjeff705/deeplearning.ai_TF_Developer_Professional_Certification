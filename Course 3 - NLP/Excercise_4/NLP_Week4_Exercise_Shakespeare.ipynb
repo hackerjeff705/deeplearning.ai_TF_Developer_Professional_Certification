{
 "cells": [
  {
   "cell_type": "code",
   "execution_count": 8,
   "metadata": {
    "id": "zX4Kg8DUTKWO"
   },
   "outputs": [],
   "source": [
    "#@title Licensed under the Apache License, Version 2.0 (the \"License\");\n",
    "# you may not use this file except in compliance with the License.\n",
    "# You may obtain a copy of the License at\n",
    "#\n",
    "# https://www.apache.org/licenses/LICENSE-2.0\n",
    "#\n",
    "# Unless required by applicable law or agreed to in writing, software\n",
    "# distributed under the License is distributed on an \"AS IS\" BASIS,\n",
    "# WITHOUT WARRANTIES OR CONDITIONS OF ANY KIND, either express or implied.\n",
    "# See the License for the specific language governing permissions and\n",
    "# limitations under the License."
   ]
  },
  {
   "cell_type": "code",
   "execution_count": 9,
   "metadata": {
    "id": "BOwsuGQQY9OL"
   },
   "outputs": [],
   "source": [
    "from tensorflow.keras.preprocessing.sequence import pad_sequences\n",
    "from tensorflow.keras.layers import Embedding, LSTM, Dense, Dropout, Bidirectional\n",
    "from tensorflow.keras.preprocessing.text import Tokenizer\n",
    "from tensorflow.keras.models import Sequential\n",
    "from tensorflow.keras.optimizers import Adam\n",
    "### YOUR CODE HERE\n",
    "# Figure out how to import regularizers\n",
    "from tensorflow.keras import regularizers\n",
    "###\n",
    "import tensorflow.keras.utils as ku \n",
    "import numpy as np \n",
    "import tensorflow as tf"
   ]
  },
  {
   "cell_type": "code",
   "execution_count": 10,
   "metadata": {
    "colab": {
     "base_uri": "https://localhost:8080/"
    },
    "id": "PRnDnCW-Z7qv",
    "outputId": "f001792f-1f6e-48c0-f5b5-94f700bf030a"
   },
   "outputs": [
    {
     "name": "stdout",
     "output_type": "stream",
     "text": [
      "--2020-12-06 03:18:14--  https://storage.googleapis.com/laurencemoroney-blog.appspot.com/sonnets.txt\n",
      "Resolving storage.googleapis.com (storage.googleapis.com)... 142.250.73.240, 172.217.5.240, 172.217.7.240, ...\n",
      "Connecting to storage.googleapis.com (storage.googleapis.com)|142.250.73.240|:443... connected.\n",
      "HTTP request sent, awaiting response... 200 OK\n",
      "Length: 93578 (91K) [text/plain]\n",
      "Saving to: ‘/tmp/sonnets.txt’\n",
      "\n",
      "\r",
      "/tmp/sonnets.txt      0%[                    ]       0  --.-KB/s               \r",
      "/tmp/sonnets.txt    100%[===================>]  91.38K  --.-KB/s    in 0.002s  \n",
      "\n",
      "2020-12-06 03:18:14 (51.4 MB/s) - ‘/tmp/sonnets.txt’ saved [93578/93578]\n",
      "\n",
      "3211\n"
     ]
    }
   ],
   "source": [
    "tokenizer = Tokenizer()\n",
    "!wget --no-check-certificate \\\n",
    "    https://storage.googleapis.com/laurencemoroney-blog.appspot.com/sonnets.txt \\\n",
    "    -O /tmp/sonnets.txt\n",
    "data = open('/tmp/sonnets.txt').read()\n",
    "\n",
    "corpus = data.lower().split(\"\\n\")\n",
    "\n",
    "\n",
    "tokenizer.fit_on_texts(corpus)\n",
    "total_words = len(tokenizer.word_index) + 1\n",
    "\n",
    "# create input sequences using list of tokens\n",
    "input_sequences = []\n",
    "for line in corpus:\n",
    "\ttoken_list = tokenizer.texts_to_sequences([line])[0]\n",
    "\tfor i in range(1, len(token_list)):\n",
    "\t\tn_gram_sequence = token_list[:i+1]\n",
    "\t\tinput_sequences.append(n_gram_sequence)\n",
    "\n",
    "\n",
    "# pad sequences \n",
    "max_sequence_len = max([len(x) for x in input_sequences])\n",
    "input_sequences = np.array(pad_sequences(input_sequences, maxlen=max_sequence_len, padding='pre'))\n",
    "\n",
    "# create predictors and label\n",
    "predictors, label = input_sequences[:,:-1],input_sequences[:,-1]\n",
    "\n",
    "label = ku.to_categorical(label, num_classes=total_words)\n",
    "print(total_words)"
   ]
  },
  {
   "cell_type": "code",
   "execution_count": 11,
   "metadata": {
    "colab": {
     "base_uri": "https://localhost:8080/"
    },
    "id": "w9vH8Y59ajYL",
    "outputId": "4d80e03e-f940-4c1a-a791-1ed6cba40a93"
   },
   "outputs": [
    {
     "name": "stdout",
     "output_type": "stream",
     "text": [
      "Model: \"sequential_1\"\n",
      "_________________________________________________________________\n",
      "Layer (type)                 Output Shape              Param #   \n",
      "=================================================================\n",
      "embedding_1 (Embedding)      (None, 10, 100)           321100    \n",
      "_________________________________________________________________\n",
      "bidirectional_2 (Bidirection (None, 10, 300)           301200    \n",
      "_________________________________________________________________\n",
      "dropout_1 (Dropout)          (None, 10, 300)           0         \n",
      "_________________________________________________________________\n",
      "bidirectional_3 (Bidirection (None, 300)               541200    \n",
      "_________________________________________________________________\n",
      "dense_2 (Dense)              (None, 1024)              308224    \n",
      "_________________________________________________________________\n",
      "dense_3 (Dense)              (None, 3211)              3291275   \n",
      "=================================================================\n",
      "Total params: 4,762,999\n",
      "Trainable params: 4,762,999\n",
      "Non-trainable params: 0\n",
      "_________________________________________________________________\n",
      "None\n"
     ]
    }
   ],
   "source": [
    "model = Sequential()\n",
    "model.add(Embedding(total_words, 100, input_length=max_sequence_len-1))\n",
    "model.add(Bidirectional(LSTM(150, return_sequences=True)))\n",
    "model.add(Dropout(0.2))\n",
    "model.add(Bidirectional(LSTM(150)))\n",
    "model.add(Dense(1024, activation='relu'))\n",
    "model.add(Dense(total_words, activation='softmax'))\n",
    "# Pick an optimizer\n",
    "adam = Adam(lr=0.003)\n",
    "model.compile(loss='categorical_crossentropy', optimizer=adam, metrics=['accuracy'])\n",
    "print(model.summary())\n"
   ]
  },
  {
   "cell_type": "code",
   "execution_count": 12,
   "metadata": {
    "colab": {
     "base_uri": "https://localhost:8080/"
    },
    "id": "AIg2f1HBxqof",
    "outputId": "121cef67-6a6c-4364-ada1-71c061e626c8"
   },
   "outputs": [
    {
     "name": "stdout",
     "output_type": "stream",
     "text": [
      "Epoch 1/100\n",
      "484/484 [==============================] - 7s 14ms/step - loss: 6.7816 - accuracy: 0.0267\n",
      "Epoch 2/100\n",
      "484/484 [==============================] - 7s 14ms/step - loss: 6.3791 - accuracy: 0.0338\n",
      "Epoch 3/100\n",
      "484/484 [==============================] - 7s 14ms/step - loss: 6.1248 - accuracy: 0.0446\n",
      "Epoch 4/100\n",
      "484/484 [==============================] - 7s 15ms/step - loss: 5.8561 - accuracy: 0.0581\n",
      "Epoch 5/100\n",
      "484/484 [==============================] - 7s 14ms/step - loss: 5.5605 - accuracy: 0.0706\n",
      "Epoch 6/100\n",
      "484/484 [==============================] - 7s 14ms/step - loss: 5.2638 - accuracy: 0.0870\n",
      "Epoch 7/100\n",
      "484/484 [==============================] - 7s 15ms/step - loss: 4.9516 - accuracy: 0.1070\n",
      "Epoch 8/100\n",
      "484/484 [==============================] - 7s 15ms/step - loss: 4.6158 - accuracy: 0.1318\n",
      "Epoch 9/100\n",
      "484/484 [==============================] - 7s 14ms/step - loss: 4.2780 - accuracy: 0.1635\n",
      "Epoch 10/100\n",
      "484/484 [==============================] - 7s 14ms/step - loss: 3.9213 - accuracy: 0.1936\n",
      "Epoch 11/100\n",
      "484/484 [==============================] - 7s 14ms/step - loss: 3.5540 - accuracy: 0.2417\n",
      "Epoch 12/100\n",
      "484/484 [==============================] - 7s 14ms/step - loss: 3.1889 - accuracy: 0.2972\n",
      "Epoch 13/100\n",
      "484/484 [==============================] - 7s 14ms/step - loss: 2.8276 - accuracy: 0.3580\n",
      "Epoch 14/100\n",
      "484/484 [==============================] - 7s 14ms/step - loss: 2.4808 - accuracy: 0.4215\n",
      "Epoch 15/100\n",
      "484/484 [==============================] - 7s 14ms/step - loss: 2.1902 - accuracy: 0.4788\n",
      "Epoch 16/100\n",
      "484/484 [==============================] - 7s 14ms/step - loss: 1.9272 - accuracy: 0.5323\n",
      "Epoch 17/100\n",
      "484/484 [==============================] - 7s 15ms/step - loss: 1.6962 - accuracy: 0.5805\n",
      "Epoch 18/100\n",
      "484/484 [==============================] - 7s 15ms/step - loss: 1.5668 - accuracy: 0.6074\n",
      "Epoch 19/100\n",
      "484/484 [==============================] - 7s 14ms/step - loss: 1.5068 - accuracy: 0.6266\n",
      "Epoch 20/100\n",
      "484/484 [==============================] - 7s 14ms/step - loss: 1.3239 - accuracy: 0.6618\n",
      "Epoch 21/100\n",
      "484/484 [==============================] - 7s 14ms/step - loss: 1.1825 - accuracy: 0.6981\n",
      "Epoch 22/100\n",
      "484/484 [==============================] - 7s 14ms/step - loss: 1.0983 - accuracy: 0.7148\n",
      "Epoch 23/100\n",
      "484/484 [==============================] - 7s 14ms/step - loss: 1.0312 - accuracy: 0.7357\n",
      "Epoch 24/100\n",
      "484/484 [==============================] - 7s 13ms/step - loss: 0.9997 - accuracy: 0.7377\n",
      "Epoch 25/100\n",
      "484/484 [==============================] - 7s 14ms/step - loss: 1.0049 - accuracy: 0.7382\n",
      "Epoch 26/100\n",
      "484/484 [==============================] - 7s 15ms/step - loss: 0.9937 - accuracy: 0.7389\n",
      "Epoch 27/100\n",
      "484/484 [==============================] - 7s 14ms/step - loss: 0.9411 - accuracy: 0.7494\n",
      "Epoch 28/100\n",
      "484/484 [==============================] - 7s 14ms/step - loss: 0.9056 - accuracy: 0.7635\n",
      "Epoch 29/100\n",
      "484/484 [==============================] - 7s 14ms/step - loss: 0.8848 - accuracy: 0.7653\n",
      "Epoch 30/100\n",
      "484/484 [==============================] - 7s 14ms/step - loss: 0.8594 - accuracy: 0.7740\n",
      "Epoch 31/100\n",
      "484/484 [==============================] - 7s 14ms/step - loss: 0.8293 - accuracy: 0.7809\n",
      "Epoch 32/100\n",
      "484/484 [==============================] - 7s 14ms/step - loss: 0.8331 - accuracy: 0.7756\n",
      "Epoch 33/100\n",
      "484/484 [==============================] - 7s 14ms/step - loss: 0.8596 - accuracy: 0.7695\n",
      "Epoch 34/100\n",
      "484/484 [==============================] - 7s 14ms/step - loss: 0.8550 - accuracy: 0.7697\n",
      "Epoch 35/100\n",
      "484/484 [==============================] - 7s 14ms/step - loss: 0.7960 - accuracy: 0.7860\n",
      "Epoch 36/100\n",
      "484/484 [==============================] - 7s 15ms/step - loss: 0.8153 - accuracy: 0.7820\n",
      "Epoch 37/100\n",
      "484/484 [==============================] - 7s 14ms/step - loss: 0.7852 - accuracy: 0.7896\n",
      "Epoch 38/100\n",
      "484/484 [==============================] - 7s 14ms/step - loss: 0.7903 - accuracy: 0.7862\n",
      "Epoch 39/100\n",
      "484/484 [==============================] - 7s 15ms/step - loss: 0.7803 - accuracy: 0.7903\n",
      "Epoch 40/100\n",
      "484/484 [==============================] - 7s 14ms/step - loss: 0.7730 - accuracy: 0.7913\n",
      "Epoch 41/100\n",
      "484/484 [==============================] - 7s 14ms/step - loss: 0.7713 - accuracy: 0.7908\n",
      "Epoch 42/100\n",
      "484/484 [==============================] - 7s 14ms/step - loss: 0.7438 - accuracy: 0.7972\n",
      "Epoch 43/100\n",
      "484/484 [==============================] - 7s 14ms/step - loss: 0.7705 - accuracy: 0.7903\n",
      "Epoch 44/100\n",
      "484/484 [==============================] - 7s 14ms/step - loss: 0.7766 - accuracy: 0.7899\n",
      "Epoch 45/100\n",
      "484/484 [==============================] - 7s 14ms/step - loss: 0.7513 - accuracy: 0.7947\n",
      "Epoch 46/100\n",
      "484/484 [==============================] - 7s 14ms/step - loss: 0.7471 - accuracy: 0.7993\n",
      "Epoch 47/100\n",
      "484/484 [==============================] - 7s 14ms/step - loss: 0.7445 - accuracy: 0.7960\n",
      "Epoch 48/100\n",
      "484/484 [==============================] - 7s 14ms/step - loss: 0.7423 - accuracy: 0.7967\n",
      "Epoch 49/100\n",
      "484/484 [==============================] - 7s 14ms/step - loss: 0.7421 - accuracy: 0.7968\n",
      "Epoch 50/100\n",
      "484/484 [==============================] - 7s 15ms/step - loss: 0.7181 - accuracy: 0.8015\n",
      "Epoch 51/100\n",
      "484/484 [==============================] - 7s 15ms/step - loss: 0.7329 - accuracy: 0.7986\n",
      "Epoch 52/100\n",
      "484/484 [==============================] - 7s 14ms/step - loss: 0.7288 - accuracy: 0.8008\n",
      "Epoch 53/100\n",
      "484/484 [==============================] - 7s 14ms/step - loss: 0.7446 - accuracy: 0.7958\n",
      "Epoch 54/100\n",
      "484/484 [==============================] - 7s 14ms/step - loss: 0.7189 - accuracy: 0.8027\n",
      "Epoch 55/100\n",
      "484/484 [==============================] - 7s 14ms/step - loss: 0.7271 - accuracy: 0.7989\n",
      "Epoch 56/100\n",
      "484/484 [==============================] - 7s 14ms/step - loss: 0.7360 - accuracy: 0.7978\n",
      "Epoch 57/100\n",
      "484/484 [==============================] - 7s 14ms/step - loss: 0.7021 - accuracy: 0.8051\n",
      "Epoch 58/100\n",
      "484/484 [==============================] - 7s 14ms/step - loss: 0.6993 - accuracy: 0.8038\n",
      "Epoch 59/100\n",
      "484/484 [==============================] - 7s 14ms/step - loss: 0.7127 - accuracy: 0.8036\n",
      "Epoch 60/100\n",
      "484/484 [==============================] - 7s 14ms/step - loss: 0.7256 - accuracy: 0.8014\n",
      "Epoch 61/100\n",
      "484/484 [==============================] - 7s 14ms/step - loss: 0.7263 - accuracy: 0.8009\n",
      "Epoch 62/100\n",
      "484/484 [==============================] - 7s 15ms/step - loss: 0.7100 - accuracy: 0.8027\n",
      "Epoch 63/100\n",
      "484/484 [==============================] - 7s 15ms/step - loss: 0.6969 - accuracy: 0.8068\n",
      "Epoch 64/100\n",
      "484/484 [==============================] - 7s 14ms/step - loss: 0.6817 - accuracy: 0.8086\n",
      "Epoch 65/100\n",
      "484/484 [==============================] - 7s 14ms/step - loss: 0.6785 - accuracy: 0.8129\n",
      "Epoch 66/100\n",
      "484/484 [==============================] - 7s 14ms/step - loss: 0.6825 - accuracy: 0.8096\n",
      "Epoch 67/100\n",
      "484/484 [==============================] - 7s 15ms/step - loss: 0.6745 - accuracy: 0.8113\n",
      "Epoch 68/100\n",
      "484/484 [==============================] - 7s 14ms/step - loss: 0.6752 - accuracy: 0.8092\n",
      "Epoch 69/100\n",
      "484/484 [==============================] - 7s 15ms/step - loss: 0.6944 - accuracy: 0.8084\n",
      "Epoch 70/100\n",
      "484/484 [==============================] - 7s 14ms/step - loss: 0.6861 - accuracy: 0.8066\n",
      "Epoch 71/100\n",
      "484/484 [==============================] - 7s 14ms/step - loss: 0.6930 - accuracy: 0.8102\n",
      "Epoch 72/100\n",
      "484/484 [==============================] - 7s 14ms/step - loss: 0.6929 - accuracy: 0.8072\n",
      "Epoch 73/100\n",
      "484/484 [==============================] - 7s 14ms/step - loss: 0.6872 - accuracy: 0.8077\n",
      "Epoch 74/100\n",
      "484/484 [==============================] - 7s 14ms/step - loss: 0.6822 - accuracy: 0.8095\n",
      "Epoch 75/100\n",
      "484/484 [==============================] - 7s 14ms/step - loss: 0.6842 - accuracy: 0.8093\n",
      "Epoch 76/100\n",
      "484/484 [==============================] - 7s 14ms/step - loss: 0.6851 - accuracy: 0.8064\n",
      "Epoch 77/100\n",
      "484/484 [==============================] - 7s 14ms/step - loss: 0.6862 - accuracy: 0.8091\n",
      "Epoch 78/100\n",
      "484/484 [==============================] - 7s 14ms/step - loss: 0.6676 - accuracy: 0.8127\n",
      "Epoch 79/100\n",
      "484/484 [==============================] - 7s 15ms/step - loss: 0.6924 - accuracy: 0.8062\n",
      "Epoch 80/100\n",
      "484/484 [==============================] - 7s 14ms/step - loss: 0.6715 - accuracy: 0.8127\n",
      "Epoch 81/100\n",
      "484/484 [==============================] - 7s 14ms/step - loss: 0.6879 - accuracy: 0.8088\n",
      "Epoch 82/100\n",
      "484/484 [==============================] - 7s 14ms/step - loss: 0.6636 - accuracy: 0.8146\n",
      "Epoch 83/100\n",
      "484/484 [==============================] - 7s 14ms/step - loss: 0.6852 - accuracy: 0.8080\n",
      "Epoch 84/100\n",
      "484/484 [==============================] - 7s 14ms/step - loss: 0.6862 - accuracy: 0.8088\n",
      "Epoch 85/100\n",
      "484/484 [==============================] - 7s 14ms/step - loss: 0.6783 - accuracy: 0.8118\n",
      "Epoch 86/100\n",
      "484/484 [==============================] - 7s 15ms/step - loss: 0.6939 - accuracy: 0.8081\n",
      "Epoch 87/100\n",
      "484/484 [==============================] - 7s 15ms/step - loss: 0.6715 - accuracy: 0.8133\n",
      "Epoch 88/100\n",
      "484/484 [==============================] - 7s 14ms/step - loss: 0.6711 - accuracy: 0.8121\n",
      "Epoch 89/100\n",
      "484/484 [==============================] - 7s 14ms/step - loss: 0.6883 - accuracy: 0.8086\n",
      "Epoch 90/100\n",
      "484/484 [==============================] - 7s 14ms/step - loss: 0.6817 - accuracy: 0.8091\n",
      "Epoch 91/100\n",
      "484/484 [==============================] - 7s 14ms/step - loss: 0.6659 - accuracy: 0.8157\n",
      "Epoch 92/100\n",
      "484/484 [==============================] - 7s 14ms/step - loss: 0.6637 - accuracy: 0.8146\n",
      "Epoch 93/100\n",
      "484/484 [==============================] - 6s 13ms/step - loss: 0.6705 - accuracy: 0.8134\n",
      "Epoch 94/100\n",
      "484/484 [==============================] - 7s 14ms/step - loss: 0.6803 - accuracy: 0.8103\n",
      "Epoch 95/100\n",
      "484/484 [==============================] - 7s 14ms/step - loss: 0.6760 - accuracy: 0.8106\n",
      "Epoch 96/100\n",
      "484/484 [==============================] - 7s 14ms/step - loss: 0.6658 - accuracy: 0.8131\n",
      "Epoch 97/100\n",
      "484/484 [==============================] - 7s 13ms/step - loss: 0.6619 - accuracy: 0.8145\n",
      "Epoch 98/100\n",
      "484/484 [==============================] - 7s 14ms/step - loss: 0.6746 - accuracy: 0.8125\n",
      "Epoch 99/100\n",
      "484/484 [==============================] - 7s 14ms/step - loss: 0.6593 - accuracy: 0.8113\n",
      "Epoch 100/100\n",
      "484/484 [==============================] - 7s 14ms/step - loss: 0.6537 - accuracy: 0.8163\n"
     ]
    }
   ],
   "source": [
    " percentage=0.998\n",
    " class myCallback(tf.keras.callbacks.Callback):\n",
    "  def on_epoch_end(self, epoch, logs={}):\n",
    "    if(logs.get('accuracy')>percentage):\n",
    "      print(f'\\nReached {percentage*100} accuracy so cancelling training!')\n",
    "      self.model.stop_training = True\n",
    "\n",
    "callbacks = myCallback()\n",
    " history = model.fit(predictors, label, epochs=100, verbose=1, callbacks=[callbacks])"
   ]
  },
  {
   "cell_type": "code",
   "execution_count": 13,
   "metadata": {
    "colab": {
     "base_uri": "https://localhost:8080/",
     "height": 545
    },
    "id": "1fXTEO3GJ282",
    "outputId": "31ac9a99-c605-4cae-c726-72c17150dfb5"
   },
   "outputs": [
    {
     "data": {
      "image/png": "[encoded data removed]",
      "text/plain": [
       "<Figure size 432x288 with 1 Axes>"
      ]
     },
     "metadata": {
      "needs_background": "light",
      "tags": []
     },
     "output_type": "display_data"
    },
    {
     "data": {
      "image/png": "[encoded data removed]",
      "text/plain": [
       "<Figure size 432x288 with 1 Axes>"
      ]
     },
     "metadata": {
      "needs_background": "light",
      "tags": []
     },
     "output_type": "display_data"
    }
   ],
   "source": [
    "import matplotlib.pyplot as plt\n",
    "acc = history.history['accuracy']\n",
    "loss = history.history['loss']\n",
    "\n",
    "epochs = range(len(acc))\n",
    "\n",
    "plt.plot(epochs, acc, 'b', label='Training accuracy')\n",
    "plt.title('Training accuracy')\n",
    "\n",
    "plt.figure()\n",
    "\n",
    "plt.plot(epochs, loss, 'b', label='Training Loss')\n",
    "plt.title('Training loss')\n",
    "plt.legend()\n",
    "\n",
    "plt.show()"
   ]
  },
  {
   "cell_type": "code",
   "execution_count": 14,
   "metadata": {
    "colab": {
     "base_uri": "https://localhost:8080/"
    },
    "id": "6Vc6PHgxa6Hm",
    "outputId": "afab0d4c-5112-48cd-a350-df94e91b2aa4"
   },
   "outputs": [
    {
     "name": "stdout",
     "output_type": "stream",
     "text": [
      "Help me Obi Wan Kenobi, you're my only hope please mine eye awake heart before men array lives he and to recite seem long since more strong minds to the main of proud compare them from her feature hate add to thee to my papers yellow'd with her growing age his brow ' in thee it who for my beauty that forth my love bring rare by thy continual haste me i in you should love say to love thee best mine eyes my verse alone had thy charge is thine eyes may willingly still love her in fair date still still being joy fill'd on your power are\n"
     ]
    }
   ],
   "source": [
    "seed_text = \"Help me Obi Wan Kenobi, you're my only hope\"\n",
    "next_words = 100\n",
    "  \n",
    "for _ in range(next_words):\n",
    "\ttoken_list = tokenizer.texts_to_sequences([seed_text])[0]\n",
    "\ttoken_list = pad_sequences([token_list], maxlen=max_sequence_len-1, padding='pre')\n",
    "\tpredicted = model.predict_classes(token_list, verbose=0)\n",
    "\toutput_word = \"\"\n",
    "\tfor word, index in tokenizer.word_index.items():\n",
    "\t\tif index == predicted:\n",
    "\t\t\toutput_word = word\n",
    "\t\t\tbreak\n",
    "\tseed_text += \" \" + output_word\n",
    "print(seed_text)"
   ]
  },
  {
   "cell_type": "code",
   "execution_count": 14,
   "metadata": {
    "id": "DbOpv4Qqm4NI"
   },
   "outputs": [],
   "source": []
  }
 ],
 "metadata": {
  "accelerator": "GPU",
  "colab": {
   "name": "NLP_Week4_Exercise_Shakespeare_Question.ipynb",
   "provenance": []
  },
  "kernelspec": {
   "display_name": "Python 3",
   "language": "python",
   "name": "python3"
  },
  "language_info": {
   "codemirror_mode": {
    "name": "ipython",
    "version": 3
   },
   "file_extension": ".py",
   "mimetype": "text/x-python",
   "name": "python",
   "nbconvert_exporter": "python",
   "pygments_lexer": "ipython3",
   "version": "3.8.5"
  }
 },
 "nbformat": 4,
 "nbformat_minor": 1
}
