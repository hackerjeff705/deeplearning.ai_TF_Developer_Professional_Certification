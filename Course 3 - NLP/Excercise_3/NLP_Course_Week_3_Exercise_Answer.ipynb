{
 "cells": [
  {
   "cell_type": "code",
   "execution_count": 1,
   "metadata": {
    "id": "zX4Kg8DUTKWO"
   },
   "outputs": [],
   "source": [
    "#@title Licensed under the Apache License, Version 2.0 (the \"License\");\n",
    "# you may not use this file except in compliance with the License.\n",
    "# You may obtain a copy of the License at\n",
    "#\n",
    "# https://www.apache.org/licenses/LICENSE-2.0\n",
    "#\n",
    "# Unless required by applicable law or agreed to in writing, software\n",
    "# distributed under the License is distributed on an \"AS IS\" BASIS,\n",
    "# WITHOUT WARRANTIES OR CONDITIONS OF ANY KIND, either express or implied.\n",
    "# See the License for the specific language governing permissions and\n",
    "# limitations under the License."
   ]
  },
  {
   "cell_type": "markdown",
   "metadata": {
    "id": "RyFKpPqnKimx"
   },
   "source": [
    "<a href=\"https://colab.research.google.com/github/lmoroney/dlaicourse/blob/master/TensorFlow%20In%20Practice/Course%203%20-%20NLP/NLP%20Course%20-%20Week%203%20Exercise%20Answer.ipynb\" target=\"_parent\"><img src=\"https://colab.research.google.com/assets/colab-badge.svg\" alt=\"Open In Colab\"/></a>"
   ]
  },
  {
   "cell_type": "code",
   "execution_count": 2,
   "metadata": {
    "id": "hmA6EzkQJ5jt"
   },
   "outputs": [],
   "source": [
    "import json\n",
    "import tensorflow as tf\n",
    "import csv\n",
    "import random\n",
    "import numpy as np\n",
    "\n",
    "from tensorflow.keras.preprocessing.text import Tokenizer\n",
    "from tensorflow.keras.preprocessing.sequence import pad_sequences\n",
    "from tensorflow.keras.utils import to_categorical\n",
    "from tensorflow.keras import regularizers\n",
    "\n",
    "\n",
    "embedding_dim = 100\n",
    "max_length = 16\n",
    "trunc_type='post'\n",
    "padding_type='post'\n",
    "oov_tok = \"<OOV>\"\n",
    "training_size=160000\n",
    "test_portion=.1\n",
    "\n",
    "corpus = []\n"
   ]
  },
  {
   "cell_type": "code",
   "execution_count": 3,
   "metadata": {
    "colab": {
     "base_uri": "https://localhost:8080/"
    },
    "id": "bM0l_dORKqE0",
    "outputId": "cc1bcb78-7f35-40ea-9722-c8fc50973759"
   },
   "outputs": [
    {
     "name": "stdout",
     "output_type": "stream",
     "text": [
      "--2020-12-04 09:51:58--  https://storage.googleapis.com/laurencemoroney-blog.appspot.com/training_cleaned.csv\n",
      "Resolving storage.googleapis.com (storage.googleapis.com)... 173.194.216.128, 173.194.217.128, 74.125.26.128, ...\n",
      "Connecting to storage.googleapis.com (storage.googleapis.com)|173.194.216.128|:443... connected.\n",
      "HTTP request sent, awaiting response... 200 OK\n",
      "Length: 238942690 (228M) [application/octet-stream]\n",
      "Saving to: ‘/tmp/training_cleaned.csv’\n",
      "\n",
      "/tmp/training_clean 100%[===================>] 227.87M   156MB/s    in 1.5s    \n",
      "\n",
      "2020-12-04 09:51:59 (156 MB/s) - ‘/tmp/training_cleaned.csv’ saved [238942690/238942690]\n",
      "\n"
     ]
    }
   ],
   "source": [
    "# Note that I cleaned the Stanford dataset to remove LATIN1 encoding to make it easier for Python CSV reader\n",
    "# You can do that yourself with:\n",
    "# iconv -f LATIN1 -t UTF8 training.1600000.processed.noemoticon.csv -o training_cleaned.csv\n",
    "# I then hosted it on my site to make it easier to use in this notebook\n",
    "\n",
    "!wget --no-check-certificate \\\n",
    "    https://storage.googleapis.com/laurencemoroney-blog.appspot.com/training_cleaned.csv \\\n",
    "    -O /tmp/training_cleaned.csv\n",
    "\n",
    "num_sentences = 0\n",
    "\n",
    "with open(\"/tmp/training_cleaned.csv\") as csvfile:\n",
    "    reader = csv.reader(csvfile, delimiter=',')\n",
    "    for row in reader:\n",
    "        list_item=[]\n",
    "        list_item.append(row[5])\n",
    "        this_label=row[0]\n",
    "        if this_label=='0':\n",
    "            list_item.append(0)\n",
    "        else:\n",
    "            list_item.append(1)\n",
    "        num_sentences = num_sentences + 1\n",
    "        corpus.append(list_item)\n"
   ]
  },
  {
   "cell_type": "code",
   "execution_count": 4,
   "metadata": {
    "colab": {
     "base_uri": "https://localhost:8080/"
    },
    "id": "3kxblBUjEUX-",
    "outputId": "b6f3a045-5ca4-4294-82fd-aa68e3d0ebec"
   },
   "outputs": [
    {
     "name": "stdout",
     "output_type": "stream",
     "text": [
      "1600000\n",
      "1600000\n",
      "[\"is upset that he can't update his Facebook by texting it... and might cry as a result  School today also. Blah!\", 0]\n"
     ]
    }
   ],
   "source": [
    "print(num_sentences)\n",
    "print(len(corpus))\n",
    "print(corpus[1])\n",
    "\n",
    "# Expected Output:\n",
    "# 1600000\n",
    "# 1600000\n",
    "# [\"is upset that he can't update his Facebook by texting it... and might cry as a result  School today also. Blah!\", 0]"
   ]
  },
  {
   "cell_type": "code",
   "execution_count": 5,
   "metadata": {
    "id": "ohOGz24lsNAD"
   },
   "outputs": [],
   "source": [
    "sentences=[]\n",
    "labels=[]\n",
    "random.shuffle(corpus)\n",
    "for x in range(training_size):\n",
    "    sentences.append(corpus[x][0])\n",
    "    labels.append(corpus[x][1])\n",
    "\n",
    "\n",
    "tokenizer = Tokenizer()\n",
    "tokenizer.fit_on_texts(sentences)\n",
    "\n",
    "word_index = tokenizer.word_index\n",
    "vocab_size=len(word_index)\n",
    "\n",
    "sequences = tokenizer.texts_to_sequences(sentences)\n",
    "padded = pad_sequences(sequences, maxlen=max_length, padding=padding_type, truncating=trunc_type)\n",
    "\n",
    "split = int(test_portion * training_size)\n",
    "\n",
    "test_sequences = padded[0:split]\n",
    "training_sequences = padded[split:training_size]\n",
    "test_labels = labels[0:split]\n",
    "training_labels = labels[split:training_size]"
   ]
  },
  {
   "cell_type": "code",
   "execution_count": 6,
   "metadata": {
    "colab": {
     "base_uri": "https://localhost:8080/"
    },
    "id": "gIrtRem1En3N",
    "outputId": "1f2dedba-9944-41ec-c10a-eb828f959891"
   },
   "outputs": [
    {
     "name": "stdout",
     "output_type": "stream",
     "text": [
      "138594\n",
      "1\n"
     ]
    }
   ],
   "source": [
    "print(vocab_size)\n",
    "print(word_index['i'])\n",
    "# Expected Output\n",
    "# 138858\n",
    "# 1"
   ]
  },
  {
   "cell_type": "code",
   "execution_count": 7,
   "metadata": {
    "colab": {
     "base_uri": "https://localhost:8080/"
    },
    "id": "C1zdgJkusRh0",
    "outputId": "45080169-b6bd-4646-d651-ca12f18d1d75"
   },
   "outputs": [
    {
     "name": "stdout",
     "output_type": "stream",
     "text": [
      "--2020-12-04 09:52:11--  https://storage.googleapis.com/laurencemoroney-blog.appspot.com/glove.6B.100d.txt\n",
      "Resolving storage.googleapis.com (storage.googleapis.com)... 173.194.216.128, 173.194.217.128, 108.177.11.128, ...\n",
      "Connecting to storage.googleapis.com (storage.googleapis.com)|173.194.216.128|:443... connected.\n",
      "HTTP request sent, awaiting response... 200 OK\n",
      "Length: 347116733 (331M) [text/plain]\n",
      "Saving to: ‘/tmp/glove.6B.100d.txt’\n",
      "\n",
      "/tmp/glove.6B.100d. 100%[===================>] 331.04M  89.5MB/s    in 3.7s    \n",
      "\n",
      "2020-12-04 09:52:15 (89.5 MB/s) - ‘/tmp/glove.6B.100d.txt’ saved [347116733/347116733]\n",
      "\n"
     ]
    }
   ],
   "source": [
    "# Note this is the 100 dimension version of GloVe from Stanford\n",
    "# I unzipped and hosted it on my site to make this notebook easier\n",
    "!wget --no-check-certificate \\\n",
    "    https://storage.googleapis.com/laurencemoroney-blog.appspot.com/glove.6B.100d.txt \\\n",
    "    -O /tmp/glove.6B.100d.txt\n",
    "embeddings_index = {};\n",
    "with open('/tmp/glove.6B.100d.txt') as f:\n",
    "    for line in f:\n",
    "        values = line.split();\n",
    "        word = values[0];\n",
    "        coefs = np.asarray(values[1:], dtype='float32');\n",
    "        embeddings_index[word] = coefs;\n",
    "\n",
    "embeddings_matrix = np.zeros((vocab_size+1, embedding_dim));\n",
    "for word, i in word_index.items():\n",
    "    embedding_vector = embeddings_index.get(word);\n",
    "    if embedding_vector is not None:\n",
    "        embeddings_matrix[i] = embedding_vector;"
   ]
  },
  {
   "cell_type": "code",
   "execution_count": 8,
   "metadata": {
    "colab": {
     "base_uri": "https://localhost:8080/"
    },
    "id": "71NLk_lpFLNt",
    "outputId": "96e92889-8417-47a3-d293-b8ca5650db1f"
   },
   "outputs": [
    {
     "name": "stdout",
     "output_type": "stream",
     "text": [
      "138595\n"
     ]
    }
   ],
   "source": [
    "print(len(embeddings_matrix))\n",
    "# Expected Output\n",
    "# 138859"
   ]
  },
  {
   "cell_type": "code",
   "execution_count": 9,
   "metadata": {
    "colab": {
     "base_uri": "https://localhost:8080/"
    },
    "id": "iKKvbuEBOGFz",
    "outputId": "3b85c07e-b64c-488e-b4b8-06a9e9922fd7"
   },
   "outputs": [
    {
     "name": "stdout",
     "output_type": "stream",
     "text": [
      "Model: \"sequential\"\n",
      "_________________________________________________________________\n",
      "Layer (type)                 Output Shape              Param #   \n",
      "=================================================================\n",
      "embedding (Embedding)        (None, 16, 100)           13859500  \n",
      "_________________________________________________________________\n",
      "dropout (Dropout)            (None, 16, 100)           0         \n",
      "_________________________________________________________________\n",
      "conv1d (Conv1D)              (None, 12, 64)            32064     \n",
      "_________________________________________________________________\n",
      "max_pooling1d (MaxPooling1D) (None, 3, 64)             0         \n",
      "_________________________________________________________________\n",
      "lstm (LSTM)                  (None, 64)                33024     \n",
      "_________________________________________________________________\n",
      "dense (Dense)                (None, 1)                 65        \n",
      "=================================================================\n",
      "Total params: 13,924,653\n",
      "Trainable params: 65,153\n",
      "Non-trainable params: 13,859,500\n",
      "_________________________________________________________________\n",
      "Epoch 1/50\n",
      "4500/4500 - 14s - loss: 0.5656 - accuracy: 0.7018 - val_loss: 0.5272 - val_accuracy: 0.7290\n",
      "Epoch 2/50\n",
      "4500/4500 - 15s - loss: 0.5255 - accuracy: 0.7337 - val_loss: 0.5161 - val_accuracy: 0.7390\n",
      "Epoch 3/50\n",
      "4500/4500 - 14s - loss: 0.5098 - accuracy: 0.7455 - val_loss: 0.5091 - val_accuracy: 0.7433\n",
      "Epoch 4/50\n",
      "4500/4500 - 14s - loss: 0.4982 - accuracy: 0.7540 - val_loss: 0.5095 - val_accuracy: 0.7474\n",
      "Epoch 5/50\n",
      "4500/4500 - 14s - loss: 0.4893 - accuracy: 0.7598 - val_loss: 0.5020 - val_accuracy: 0.7500\n",
      "Epoch 6/50\n",
      "4500/4500 - 14s - loss: 0.4807 - accuracy: 0.7646 - val_loss: 0.5006 - val_accuracy: 0.7516\n",
      "Epoch 7/50\n",
      "4500/4500 - 14s - loss: 0.4770 - accuracy: 0.7675 - val_loss: 0.5042 - val_accuracy: 0.7563\n",
      "Epoch 8/50\n",
      "4500/4500 - 14s - loss: 0.4714 - accuracy: 0.7703 - val_loss: 0.5014 - val_accuracy: 0.7544\n",
      "Epoch 9/50\n",
      "4500/4500 - 14s - loss: 0.4667 - accuracy: 0.7743 - val_loss: 0.4984 - val_accuracy: 0.7552\n",
      "Epoch 10/50\n",
      "4500/4500 - 14s - loss: 0.4618 - accuracy: 0.7769 - val_loss: 0.5069 - val_accuracy: 0.7559\n",
      "Epoch 11/50\n",
      "4500/4500 - 14s - loss: 0.4591 - accuracy: 0.7796 - val_loss: 0.5001 - val_accuracy: 0.7554\n",
      "Epoch 12/50\n",
      "4500/4500 - 14s - loss: 0.4559 - accuracy: 0.7799 - val_loss: 0.5020 - val_accuracy: 0.7530\n",
      "Epoch 13/50\n",
      "4500/4500 - 13s - loss: 0.4524 - accuracy: 0.7820 - val_loss: 0.5012 - val_accuracy: 0.7586\n",
      "Epoch 14/50\n",
      "4500/4500 - 14s - loss: 0.4509 - accuracy: 0.7840 - val_loss: 0.5071 - val_accuracy: 0.7538\n",
      "Epoch 15/50\n",
      "4500/4500 - 14s - loss: 0.4484 - accuracy: 0.7856 - val_loss: 0.5071 - val_accuracy: 0.7526\n",
      "Epoch 16/50\n",
      "4500/4500 - 14s - loss: 0.4453 - accuracy: 0.7878 - val_loss: 0.5094 - val_accuracy: 0.7532\n",
      "Epoch 17/50\n",
      "4500/4500 - 14s - loss: 0.4448 - accuracy: 0.7871 - val_loss: 0.5053 - val_accuracy: 0.7532\n",
      "Epoch 18/50\n",
      "4500/4500 - 13s - loss: 0.4429 - accuracy: 0.7880 - val_loss: 0.5031 - val_accuracy: 0.7550\n",
      "Epoch 19/50\n",
      "4500/4500 - 14s - loss: 0.4419 - accuracy: 0.7894 - val_loss: 0.5142 - val_accuracy: 0.7500\n",
      "Epoch 20/50\n",
      "4500/4500 - 14s - loss: 0.4403 - accuracy: 0.7897 - val_loss: 0.5129 - val_accuracy: 0.7512\n",
      "Epoch 21/50\n",
      "4500/4500 - 14s - loss: 0.4390 - accuracy: 0.7898 - val_loss: 0.5074 - val_accuracy: 0.7525\n",
      "Epoch 22/50\n",
      "4500/4500 - 13s - loss: 0.4366 - accuracy: 0.7918 - val_loss: 0.5169 - val_accuracy: 0.7504\n",
      "Epoch 23/50\n",
      "4500/4500 - 14s - loss: 0.4376 - accuracy: 0.7911 - val_loss: 0.5119 - val_accuracy: 0.7513\n",
      "Epoch 24/50\n",
      "4500/4500 - 13s - loss: 0.4366 - accuracy: 0.7913 - val_loss: 0.5147 - val_accuracy: 0.7554\n",
      "Epoch 25/50\n",
      "4500/4500 - 15s - loss: 0.4349 - accuracy: 0.7930 - val_loss: 0.5086 - val_accuracy: 0.7552\n",
      "Epoch 26/50\n",
      "4500/4500 - 14s - loss: 0.4338 - accuracy: 0.7935 - val_loss: 0.5117 - val_accuracy: 0.7538\n",
      "Epoch 27/50\n",
      "4500/4500 - 14s - loss: 0.4340 - accuracy: 0.7935 - val_loss: 0.5073 - val_accuracy: 0.7536\n",
      "Epoch 28/50\n",
      "4500/4500 - 14s - loss: 0.4319 - accuracy: 0.7942 - val_loss: 0.5153 - val_accuracy: 0.7529\n",
      "Epoch 29/50\n",
      "4500/4500 - 13s - loss: 0.4326 - accuracy: 0.7942 - val_loss: 0.5314 - val_accuracy: 0.7474\n",
      "Epoch 30/50\n",
      "4500/4500 - 14s - loss: 0.4309 - accuracy: 0.7950 - val_loss: 0.5204 - val_accuracy: 0.7524\n",
      "Epoch 31/50\n",
      "4500/4500 - 13s - loss: 0.4311 - accuracy: 0.7954 - val_loss: 0.5169 - val_accuracy: 0.7476\n",
      "Epoch 32/50\n",
      "4500/4500 - 14s - loss: 0.4298 - accuracy: 0.7965 - val_loss: 0.5135 - val_accuracy: 0.7527\n",
      "Epoch 33/50\n",
      "4500/4500 - 14s - loss: 0.4295 - accuracy: 0.7961 - val_loss: 0.5128 - val_accuracy: 0.7533\n",
      "Epoch 34/50\n",
      "4500/4500 - 13s - loss: 0.4307 - accuracy: 0.7962 - val_loss: 0.5093 - val_accuracy: 0.7564\n",
      "Epoch 35/50\n",
      "4500/4500 - 14s - loss: 0.4301 - accuracy: 0.7958 - val_loss: 0.5184 - val_accuracy: 0.7504\n",
      "Epoch 36/50\n",
      "4500/4500 - 14s - loss: 0.4281 - accuracy: 0.7978 - val_loss: 0.5204 - val_accuracy: 0.7507\n",
      "Epoch 37/50\n",
      "4500/4500 - 14s - loss: 0.4285 - accuracy: 0.7971 - val_loss: 0.5191 - val_accuracy: 0.7498\n",
      "Epoch 38/50\n",
      "4500/4500 - 14s - loss: 0.4275 - accuracy: 0.7978 - val_loss: 0.5169 - val_accuracy: 0.7487\n",
      "Epoch 39/50\n",
      "4500/4500 - 14s - loss: 0.4261 - accuracy: 0.7990 - val_loss: 0.5145 - val_accuracy: 0.7487\n",
      "Epoch 40/50\n",
      "4500/4500 - 13s - loss: 0.4274 - accuracy: 0.7976 - val_loss: 0.5135 - val_accuracy: 0.7510\n",
      "Epoch 41/50\n",
      "4500/4500 - 13s - loss: 0.4266 - accuracy: 0.7989 - val_loss: 0.5138 - val_accuracy: 0.7523\n",
      "Epoch 42/50\n",
      "4500/4500 - 13s - loss: 0.4265 - accuracy: 0.7993 - val_loss: 0.5183 - val_accuracy: 0.7512\n",
      "Epoch 43/50\n",
      "4500/4500 - 13s - loss: 0.4257 - accuracy: 0.7989 - val_loss: 0.5193 - val_accuracy: 0.7506\n",
      "Epoch 44/50\n",
      "4500/4500 - 14s - loss: 0.4260 - accuracy: 0.7979 - val_loss: 0.5189 - val_accuracy: 0.7481\n",
      "Epoch 45/50\n",
      "4500/4500 - 13s - loss: 0.4244 - accuracy: 0.7994 - val_loss: 0.5189 - val_accuracy: 0.7506\n",
      "Epoch 46/50\n",
      "4500/4500 - 13s - loss: 0.4246 - accuracy: 0.7984 - val_loss: 0.5171 - val_accuracy: 0.7486\n",
      "Epoch 47/50\n",
      "4500/4500 - 14s - loss: 0.4252 - accuracy: 0.7997 - val_loss: 0.5195 - val_accuracy: 0.7483\n",
      "Epoch 48/50\n",
      "4500/4500 - 14s - loss: 0.4254 - accuracy: 0.7993 - val_loss: 0.5217 - val_accuracy: 0.7491\n",
      "Epoch 49/50\n",
      "4500/4500 - 13s - loss: 0.4247 - accuracy: 0.8001 - val_loss: 0.5224 - val_accuracy: 0.7483\n",
      "Epoch 50/50\n",
      "4500/4500 - 14s - loss: 0.4256 - accuracy: 0.7993 - val_loss: 0.5226 - val_accuracy: 0.7484\n",
      "Training Complete\n"
     ]
    }
   ],
   "source": [
    "model = tf.keras.Sequential([\n",
    "    tf.keras.layers.Embedding(vocab_size+1, embedding_dim, input_length=max_length, weights=[embeddings_matrix], trainable=False),\n",
    "    tf.keras.layers.Dropout(0.2),\n",
    "    tf.keras.layers.Conv1D(64, 5, activation='relu'),\n",
    "    tf.keras.layers.MaxPooling1D(pool_size=4),\n",
    "    tf.keras.layers.LSTM(64),\n",
    "    tf.keras.layers.Dense(1, activation='sigmoid')\n",
    "])\n",
    "model.compile(loss='binary_crossentropy',optimizer='adam',metrics=['accuracy'])\n",
    "model.summary()\n",
    "\n",
    "num_epochs = 50\n",
    "\n",
    "training_padded = np.array(training_sequences)\n",
    "training_labels = np.array(training_labels)\n",
    "testing_padded = np.array(test_sequences)\n",
    "testing_labels = np.array(test_labels)\n",
    "\n",
    "history = model.fit(training_padded, training_labels, epochs=num_epochs, validation_data=(testing_padded, testing_labels), verbose=2)\n",
    "\n",
    "print(\"Training Complete\")"
   ]
  },
  {
   "cell_type": "code",
   "execution_count": 10,
   "metadata": {
    "colab": {
     "base_uri": "https://localhost:8080/",
     "height": 607
    },
    "id": "qxju4ItJKO8F",
    "outputId": "f1cd3a71-ae33-41aa-8c17-ef1562342a92"
   },
   "outputs": [
    {
     "data": {
      "text/plain": [
       "<Figure size 432x288 with 0 Axes>"
      ]
     },
     "execution_count": 10,
     "metadata": {
      "tags": []
     },
     "output_type": "execute_result"
    },
    {
     "data": {
      "image/png": "[encoded data removed]",
      "text/plain": [
       "<Figure size 432x288 with 1 Axes>"
      ]
     },
     "metadata": {
      "needs_background": "light",
      "tags": []
     },
     "output_type": "display_data"
    },
    {
     "data": {
      "image/png": "[encoded data removed]",
      "text/plain": [
       "<Figure size 432x288 with 1 Axes>"
      ]
     },
     "metadata": {
      "needs_background": "light",
      "tags": []
     },
     "output_type": "display_data"
    },
    {
     "data": {
      "text/plain": [
       "<Figure size 432x288 with 0 Axes>"
      ]
     },
     "metadata": {
      "tags": []
     },
     "output_type": "display_data"
    }
   ],
   "source": [
    "import matplotlib.image  as mpimg\n",
    "import matplotlib.pyplot as plt\n",
    "\n",
    "#-----------------------------------------------------------\n",
    "# Retrieve a list of list results on training and test data\n",
    "# sets for each training epoch\n",
    "#-----------------------------------------------------------\n",
    "acc=history.history['accuracy']\n",
    "val_acc=history.history['val_accuracy']\n",
    "loss=history.history['loss']\n",
    "val_loss=history.history['val_loss']\n",
    "\n",
    "epochs=range(len(acc)) # Get number of epochs\n",
    "\n",
    "#------------------------------------------------\n",
    "# Plot training and validation accuracy per epoch\n",
    "#------------------------------------------------\n",
    "plt.plot(epochs, acc, 'r')\n",
    "plt.plot(epochs, val_acc, 'b')\n",
    "plt.title('Training and validation accuracy')\n",
    "plt.xlabel(\"Epochs\")\n",
    "plt.ylabel(\"Accuracy\")\n",
    "plt.legend([\"Accuracy\", \"Validation Accuracy\"])\n",
    "\n",
    "plt.figure()\n",
    "\n",
    "#------------------------------------------------\n",
    "# Plot training and validation loss per epoch\n",
    "#------------------------------------------------\n",
    "plt.plot(epochs, loss, 'r')\n",
    "plt.plot(epochs, val_loss, 'b')\n",
    "plt.title('Training and validation loss')\n",
    "plt.xlabel(\"Epochs\")\n",
    "plt.ylabel(\"Loss\")\n",
    "plt.legend([\"Loss\", \"Validation Loss\"])\n",
    "\n",
    "plt.figure()\n",
    "\n",
    "\n",
    "# Expected Output\n",
    "# A chart where the validation loss does not increase sharply!"
   ]
  }
 ],
 "metadata": {
  "accelerator": "GPU",
  "colab": {
   "name": "NLP Course - Week 3 Exercise Answer.ipynb",
   "provenance": []
  },
  "kernelspec": {
   "display_name": "Python 3",
   "language": "python",
   "name": "python3"
  },
  "language_info": {
   "codemirror_mode": {
    "name": "ipython",
    "version": 3
   },
   "file_extension": ".py",
   "mimetype": "text/x-python",
   "name": "python",
   "nbconvert_exporter": "python",
   "pygments_lexer": "ipython3",
   "version": "3.8.5"
  }
 },
 "nbformat": 4,
 "nbformat_minor": 1
}
